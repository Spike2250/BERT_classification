{
  "nbformat": 4,
  "nbformat_minor": 0,
  "metadata": {
    "colab": {
      "provenance": [],
      "toc_visible": true
    },
    "kernelspec": {
      "name": "python3",
      "display_name": "Python 3"
    },
    "language_info": {
      "name": "python"
    },
    "widgets": {
      "application/vnd.jupyter.widget-state+json": {
        "59ea524c062149d5bb5f3f7c7e2dd42d": {
          "model_module": "@jupyter-widgets/controls",
          "model_name": "HBoxModel",
          "model_module_version": "1.5.0",
          "state": {
            "_dom_classes": [],
            "_model_module": "@jupyter-widgets/controls",
            "_model_module_version": "1.5.0",
            "_model_name": "HBoxModel",
            "_view_count": null,
            "_view_module": "@jupyter-widgets/controls",
            "_view_module_version": "1.5.0",
            "_view_name": "HBoxView",
            "box_style": "",
            "children": [
              "IPY_MODEL_50b635eafcdd4d9184ebb26715d71afd",
              "IPY_MODEL_b36075dd02b544488a5b85e9314983cf",
              "IPY_MODEL_8bde892345b745f88aaaf4a2f14663d1"
            ],
            "layout": "IPY_MODEL_6c79128baab346139cdb489b6684f906"
          }
        },
        "50b635eafcdd4d9184ebb26715d71afd": {
          "model_module": "@jupyter-widgets/controls",
          "model_name": "HTMLModel",
          "model_module_version": "1.5.0",
          "state": {
            "_dom_classes": [],
            "_model_module": "@jupyter-widgets/controls",
            "_model_module_version": "1.5.0",
            "_model_name": "HTMLModel",
            "_view_count": null,
            "_view_module": "@jupyter-widgets/controls",
            "_view_module_version": "1.5.0",
            "_view_name": "HTMLView",
            "description": "",
            "description_tooltip": null,
            "layout": "IPY_MODEL_d7d62601e2314574922cd0b985210503",
            "placeholder": "​",
            "style": "IPY_MODEL_24312b0be12045febb201bb3a1077f58",
            "value": "tokenizer_config.json: 100%"
          }
        },
        "b36075dd02b544488a5b85e9314983cf": {
          "model_module": "@jupyter-widgets/controls",
          "model_name": "FloatProgressModel",
          "model_module_version": "1.5.0",
          "state": {
            "_dom_classes": [],
            "_model_module": "@jupyter-widgets/controls",
            "_model_module_version": "1.5.0",
            "_model_name": "FloatProgressModel",
            "_view_count": null,
            "_view_module": "@jupyter-widgets/controls",
            "_view_module_version": "1.5.0",
            "_view_name": "ProgressView",
            "bar_style": "success",
            "description": "",
            "description_tooltip": null,
            "layout": "IPY_MODEL_4c913202ce254735bdc0a57079c20032",
            "max": 401,
            "min": 0,
            "orientation": "horizontal",
            "style": "IPY_MODEL_2944cdfb58e143e5a0df2c2859a2d864",
            "value": 401
          }
        },
        "8bde892345b745f88aaaf4a2f14663d1": {
          "model_module": "@jupyter-widgets/controls",
          "model_name": "HTMLModel",
          "model_module_version": "1.5.0",
          "state": {
            "_dom_classes": [],
            "_model_module": "@jupyter-widgets/controls",
            "_model_module_version": "1.5.0",
            "_model_name": "HTMLModel",
            "_view_count": null,
            "_view_module": "@jupyter-widgets/controls",
            "_view_module_version": "1.5.0",
            "_view_name": "HTMLView",
            "description": "",
            "description_tooltip": null,
            "layout": "IPY_MODEL_22d0336f99c14ca2af34120132ad3ac0",
            "placeholder": "​",
            "style": "IPY_MODEL_9a832aff9b2b4f08840aeef93e9ce98c",
            "value": " 401/401 [00:00&lt;00:00, 17.7kB/s]"
          }
        },
        "6c79128baab346139cdb489b6684f906": {
          "model_module": "@jupyter-widgets/base",
          "model_name": "LayoutModel",
          "model_module_version": "1.2.0",
          "state": {
            "_model_module": "@jupyter-widgets/base",
            "_model_module_version": "1.2.0",
            "_model_name": "LayoutModel",
            "_view_count": null,
            "_view_module": "@jupyter-widgets/base",
            "_view_module_version": "1.2.0",
            "_view_name": "LayoutView",
            "align_content": null,
            "align_items": null,
            "align_self": null,
            "border": null,
            "bottom": null,
            "display": null,
            "flex": null,
            "flex_flow": null,
            "grid_area": null,
            "grid_auto_columns": null,
            "grid_auto_flow": null,
            "grid_auto_rows": null,
            "grid_column": null,
            "grid_gap": null,
            "grid_row": null,
            "grid_template_areas": null,
            "grid_template_columns": null,
            "grid_template_rows": null,
            "height": null,
            "justify_content": null,
            "justify_items": null,
            "left": null,
            "margin": null,
            "max_height": null,
            "max_width": null,
            "min_height": null,
            "min_width": null,
            "object_fit": null,
            "object_position": null,
            "order": null,
            "overflow": null,
            "overflow_x": null,
            "overflow_y": null,
            "padding": null,
            "right": null,
            "top": null,
            "visibility": null,
            "width": null
          }
        },
        "d7d62601e2314574922cd0b985210503": {
          "model_module": "@jupyter-widgets/base",
          "model_name": "LayoutModel",
          "model_module_version": "1.2.0",
          "state": {
            "_model_module": "@jupyter-widgets/base",
            "_model_module_version": "1.2.0",
            "_model_name": "LayoutModel",
            "_view_count": null,
            "_view_module": "@jupyter-widgets/base",
            "_view_module_version": "1.2.0",
            "_view_name": "LayoutView",
            "align_content": null,
            "align_items": null,
            "align_self": null,
            "border": null,
            "bottom": null,
            "display": null,
            "flex": null,
            "flex_flow": null,
            "grid_area": null,
            "grid_auto_columns": null,
            "grid_auto_flow": null,
            "grid_auto_rows": null,
            "grid_column": null,
            "grid_gap": null,
            "grid_row": null,
            "grid_template_areas": null,
            "grid_template_columns": null,
            "grid_template_rows": null,
            "height": null,
            "justify_content": null,
            "justify_items": null,
            "left": null,
            "margin": null,
            "max_height": null,
            "max_width": null,
            "min_height": null,
            "min_width": null,
            "object_fit": null,
            "object_position": null,
            "order": null,
            "overflow": null,
            "overflow_x": null,
            "overflow_y": null,
            "padding": null,
            "right": null,
            "top": null,
            "visibility": null,
            "width": null
          }
        },
        "24312b0be12045febb201bb3a1077f58": {
          "model_module": "@jupyter-widgets/controls",
          "model_name": "DescriptionStyleModel",
          "model_module_version": "1.5.0",
          "state": {
            "_model_module": "@jupyter-widgets/controls",
            "_model_module_version": "1.5.0",
            "_model_name": "DescriptionStyleModel",
            "_view_count": null,
            "_view_module": "@jupyter-widgets/base",
            "_view_module_version": "1.2.0",
            "_view_name": "StyleView",
            "description_width": ""
          }
        },
        "4c913202ce254735bdc0a57079c20032": {
          "model_module": "@jupyter-widgets/base",
          "model_name": "LayoutModel",
          "model_module_version": "1.2.0",
          "state": {
            "_model_module": "@jupyter-widgets/base",
            "_model_module_version": "1.2.0",
            "_model_name": "LayoutModel",
            "_view_count": null,
            "_view_module": "@jupyter-widgets/base",
            "_view_module_version": "1.2.0",
            "_view_name": "LayoutView",
            "align_content": null,
            "align_items": null,
            "align_self": null,
            "border": null,
            "bottom": null,
            "display": null,
            "flex": null,
            "flex_flow": null,
            "grid_area": null,
            "grid_auto_columns": null,
            "grid_auto_flow": null,
            "grid_auto_rows": null,
            "grid_column": null,
            "grid_gap": null,
            "grid_row": null,
            "grid_template_areas": null,
            "grid_template_columns": null,
            "grid_template_rows": null,
            "height": null,
            "justify_content": null,
            "justify_items": null,
            "left": null,
            "margin": null,
            "max_height": null,
            "max_width": null,
            "min_height": null,
            "min_width": null,
            "object_fit": null,
            "object_position": null,
            "order": null,
            "overflow": null,
            "overflow_x": null,
            "overflow_y": null,
            "padding": null,
            "right": null,
            "top": null,
            "visibility": null,
            "width": null
          }
        },
        "2944cdfb58e143e5a0df2c2859a2d864": {
          "model_module": "@jupyter-widgets/controls",
          "model_name": "ProgressStyleModel",
          "model_module_version": "1.5.0",
          "state": {
            "_model_module": "@jupyter-widgets/controls",
            "_model_module_version": "1.5.0",
            "_model_name": "ProgressStyleModel",
            "_view_count": null,
            "_view_module": "@jupyter-widgets/base",
            "_view_module_version": "1.2.0",
            "_view_name": "StyleView",
            "bar_color": null,
            "description_width": ""
          }
        },
        "22d0336f99c14ca2af34120132ad3ac0": {
          "model_module": "@jupyter-widgets/base",
          "model_name": "LayoutModel",
          "model_module_version": "1.2.0",
          "state": {
            "_model_module": "@jupyter-widgets/base",
            "_model_module_version": "1.2.0",
            "_model_name": "LayoutModel",
            "_view_count": null,
            "_view_module": "@jupyter-widgets/base",
            "_view_module_version": "1.2.0",
            "_view_name": "LayoutView",
            "align_content": null,
            "align_items": null,
            "align_self": null,
            "border": null,
            "bottom": null,
            "display": null,
            "flex": null,
            "flex_flow": null,
            "grid_area": null,
            "grid_auto_columns": null,
            "grid_auto_flow": null,
            "grid_auto_rows": null,
            "grid_column": null,
            "grid_gap": null,
            "grid_row": null,
            "grid_template_areas": null,
            "grid_template_columns": null,
            "grid_template_rows": null,
            "height": null,
            "justify_content": null,
            "justify_items": null,
            "left": null,
            "margin": null,
            "max_height": null,
            "max_width": null,
            "min_height": null,
            "min_width": null,
            "object_fit": null,
            "object_position": null,
            "order": null,
            "overflow": null,
            "overflow_x": null,
            "overflow_y": null,
            "padding": null,
            "right": null,
            "top": null,
            "visibility": null,
            "width": null
          }
        },
        "9a832aff9b2b4f08840aeef93e9ce98c": {
          "model_module": "@jupyter-widgets/controls",
          "model_name": "DescriptionStyleModel",
          "model_module_version": "1.5.0",
          "state": {
            "_model_module": "@jupyter-widgets/controls",
            "_model_module_version": "1.5.0",
            "_model_name": "DescriptionStyleModel",
            "_view_count": null,
            "_view_module": "@jupyter-widgets/base",
            "_view_module_version": "1.2.0",
            "_view_name": "StyleView",
            "description_width": ""
          }
        },
        "58dfbb6f97ef4caf8fb48e298e4e01b6": {
          "model_module": "@jupyter-widgets/controls",
          "model_name": "HBoxModel",
          "model_module_version": "1.5.0",
          "state": {
            "_dom_classes": [],
            "_model_module": "@jupyter-widgets/controls",
            "_model_module_version": "1.5.0",
            "_model_name": "HBoxModel",
            "_view_count": null,
            "_view_module": "@jupyter-widgets/controls",
            "_view_module_version": "1.5.0",
            "_view_name": "HBoxView",
            "box_style": "",
            "children": [
              "IPY_MODEL_5e76c3b4eb1e438fab1e4f60cf5045d2",
              "IPY_MODEL_8735e1bd904145b4bda7670a6d53b744",
              "IPY_MODEL_5670febd2b38473ead1dd998d5d16139"
            ],
            "layout": "IPY_MODEL_7e712b9b39a74150b48f3c15cf7f90ff"
          }
        },
        "5e76c3b4eb1e438fab1e4f60cf5045d2": {
          "model_module": "@jupyter-widgets/controls",
          "model_name": "HTMLModel",
          "model_module_version": "1.5.0",
          "state": {
            "_dom_classes": [],
            "_model_module": "@jupyter-widgets/controls",
            "_model_module_version": "1.5.0",
            "_model_name": "HTMLModel",
            "_view_count": null,
            "_view_module": "@jupyter-widgets/controls",
            "_view_module_version": "1.5.0",
            "_view_name": "HTMLView",
            "description": "",
            "description_tooltip": null,
            "layout": "IPY_MODEL_d66ea81dbf1343568e3b20f5c34bc962",
            "placeholder": "​",
            "style": "IPY_MODEL_5726075d578a40e2be5dbe5311d874c5",
            "value": "vocab.txt: 100%"
          }
        },
        "8735e1bd904145b4bda7670a6d53b744": {
          "model_module": "@jupyter-widgets/controls",
          "model_name": "FloatProgressModel",
          "model_module_version": "1.5.0",
          "state": {
            "_dom_classes": [],
            "_model_module": "@jupyter-widgets/controls",
            "_model_module_version": "1.5.0",
            "_model_name": "FloatProgressModel",
            "_view_count": null,
            "_view_module": "@jupyter-widgets/controls",
            "_view_module_version": "1.5.0",
            "_view_name": "ProgressView",
            "bar_style": "success",
            "description": "",
            "description_tooltip": null,
            "layout": "IPY_MODEL_19daf9e47f924d2998813e04967f704d",
            "max": 1080667,
            "min": 0,
            "orientation": "horizontal",
            "style": "IPY_MODEL_0e1724222dc94738aecc31482ffebcd5",
            "value": 1080667
          }
        },
        "5670febd2b38473ead1dd998d5d16139": {
          "model_module": "@jupyter-widgets/controls",
          "model_name": "HTMLModel",
          "model_module_version": "1.5.0",
          "state": {
            "_dom_classes": [],
            "_model_module": "@jupyter-widgets/controls",
            "_model_module_version": "1.5.0",
            "_model_name": "HTMLModel",
            "_view_count": null,
            "_view_module": "@jupyter-widgets/controls",
            "_view_module_version": "1.5.0",
            "_view_name": "HTMLView",
            "description": "",
            "description_tooltip": null,
            "layout": "IPY_MODEL_71d6e2f7cfee48a3bf1d3e5548a1150c",
            "placeholder": "​",
            "style": "IPY_MODEL_e3fcd20033a14316bbd0ff131346fc29",
            "value": " 1.08M/1.08M [00:00&lt;00:00, 6.47MB/s]"
          }
        },
        "7e712b9b39a74150b48f3c15cf7f90ff": {
          "model_module": "@jupyter-widgets/base",
          "model_name": "LayoutModel",
          "model_module_version": "1.2.0",
          "state": {
            "_model_module": "@jupyter-widgets/base",
            "_model_module_version": "1.2.0",
            "_model_name": "LayoutModel",
            "_view_count": null,
            "_view_module": "@jupyter-widgets/base",
            "_view_module_version": "1.2.0",
            "_view_name": "LayoutView",
            "align_content": null,
            "align_items": null,
            "align_self": null,
            "border": null,
            "bottom": null,
            "display": null,
            "flex": null,
            "flex_flow": null,
            "grid_area": null,
            "grid_auto_columns": null,
            "grid_auto_flow": null,
            "grid_auto_rows": null,
            "grid_column": null,
            "grid_gap": null,
            "grid_row": null,
            "grid_template_areas": null,
            "grid_template_columns": null,
            "grid_template_rows": null,
            "height": null,
            "justify_content": null,
            "justify_items": null,
            "left": null,
            "margin": null,
            "max_height": null,
            "max_width": null,
            "min_height": null,
            "min_width": null,
            "object_fit": null,
            "object_position": null,
            "order": null,
            "overflow": null,
            "overflow_x": null,
            "overflow_y": null,
            "padding": null,
            "right": null,
            "top": null,
            "visibility": null,
            "width": null
          }
        },
        "d66ea81dbf1343568e3b20f5c34bc962": {
          "model_module": "@jupyter-widgets/base",
          "model_name": "LayoutModel",
          "model_module_version": "1.2.0",
          "state": {
            "_model_module": "@jupyter-widgets/base",
            "_model_module_version": "1.2.0",
            "_model_name": "LayoutModel",
            "_view_count": null,
            "_view_module": "@jupyter-widgets/base",
            "_view_module_version": "1.2.0",
            "_view_name": "LayoutView",
            "align_content": null,
            "align_items": null,
            "align_self": null,
            "border": null,
            "bottom": null,
            "display": null,
            "flex": null,
            "flex_flow": null,
            "grid_area": null,
            "grid_auto_columns": null,
            "grid_auto_flow": null,
            "grid_auto_rows": null,
            "grid_column": null,
            "grid_gap": null,
            "grid_row": null,
            "grid_template_areas": null,
            "grid_template_columns": null,
            "grid_template_rows": null,
            "height": null,
            "justify_content": null,
            "justify_items": null,
            "left": null,
            "margin": null,
            "max_height": null,
            "max_width": null,
            "min_height": null,
            "min_width": null,
            "object_fit": null,
            "object_position": null,
            "order": null,
            "overflow": null,
            "overflow_x": null,
            "overflow_y": null,
            "padding": null,
            "right": null,
            "top": null,
            "visibility": null,
            "width": null
          }
        },
        "5726075d578a40e2be5dbe5311d874c5": {
          "model_module": "@jupyter-widgets/controls",
          "model_name": "DescriptionStyleModel",
          "model_module_version": "1.5.0",
          "state": {
            "_model_module": "@jupyter-widgets/controls",
            "_model_module_version": "1.5.0",
            "_model_name": "DescriptionStyleModel",
            "_view_count": null,
            "_view_module": "@jupyter-widgets/base",
            "_view_module_version": "1.2.0",
            "_view_name": "StyleView",
            "description_width": ""
          }
        },
        "19daf9e47f924d2998813e04967f704d": {
          "model_module": "@jupyter-widgets/base",
          "model_name": "LayoutModel",
          "model_module_version": "1.2.0",
          "state": {
            "_model_module": "@jupyter-widgets/base",
            "_model_module_version": "1.2.0",
            "_model_name": "LayoutModel",
            "_view_count": null,
            "_view_module": "@jupyter-widgets/base",
            "_view_module_version": "1.2.0",
            "_view_name": "LayoutView",
            "align_content": null,
            "align_items": null,
            "align_self": null,
            "border": null,
            "bottom": null,
            "display": null,
            "flex": null,
            "flex_flow": null,
            "grid_area": null,
            "grid_auto_columns": null,
            "grid_auto_flow": null,
            "grid_auto_rows": null,
            "grid_column": null,
            "grid_gap": null,
            "grid_row": null,
            "grid_template_areas": null,
            "grid_template_columns": null,
            "grid_template_rows": null,
            "height": null,
            "justify_content": null,
            "justify_items": null,
            "left": null,
            "margin": null,
            "max_height": null,
            "max_width": null,
            "min_height": null,
            "min_width": null,
            "object_fit": null,
            "object_position": null,
            "order": null,
            "overflow": null,
            "overflow_x": null,
            "overflow_y": null,
            "padding": null,
            "right": null,
            "top": null,
            "visibility": null,
            "width": null
          }
        },
        "0e1724222dc94738aecc31482ffebcd5": {
          "model_module": "@jupyter-widgets/controls",
          "model_name": "ProgressStyleModel",
          "model_module_version": "1.5.0",
          "state": {
            "_model_module": "@jupyter-widgets/controls",
            "_model_module_version": "1.5.0",
            "_model_name": "ProgressStyleModel",
            "_view_count": null,
            "_view_module": "@jupyter-widgets/base",
            "_view_module_version": "1.2.0",
            "_view_name": "StyleView",
            "bar_color": null,
            "description_width": ""
          }
        },
        "71d6e2f7cfee48a3bf1d3e5548a1150c": {
          "model_module": "@jupyter-widgets/base",
          "model_name": "LayoutModel",
          "model_module_version": "1.2.0",
          "state": {
            "_model_module": "@jupyter-widgets/base",
            "_model_module_version": "1.2.0",
            "_model_name": "LayoutModel",
            "_view_count": null,
            "_view_module": "@jupyter-widgets/base",
            "_view_module_version": "1.2.0",
            "_view_name": "LayoutView",
            "align_content": null,
            "align_items": null,
            "align_self": null,
            "border": null,
            "bottom": null,
            "display": null,
            "flex": null,
            "flex_flow": null,
            "grid_area": null,
            "grid_auto_columns": null,
            "grid_auto_flow": null,
            "grid_auto_rows": null,
            "grid_column": null,
            "grid_gap": null,
            "grid_row": null,
            "grid_template_areas": null,
            "grid_template_columns": null,
            "grid_template_rows": null,
            "height": null,
            "justify_content": null,
            "justify_items": null,
            "left": null,
            "margin": null,
            "max_height": null,
            "max_width": null,
            "min_height": null,
            "min_width": null,
            "object_fit": null,
            "object_position": null,
            "order": null,
            "overflow": null,
            "overflow_x": null,
            "overflow_y": null,
            "padding": null,
            "right": null,
            "top": null,
            "visibility": null,
            "width": null
          }
        },
        "e3fcd20033a14316bbd0ff131346fc29": {
          "model_module": "@jupyter-widgets/controls",
          "model_name": "DescriptionStyleModel",
          "model_module_version": "1.5.0",
          "state": {
            "_model_module": "@jupyter-widgets/controls",
            "_model_module_version": "1.5.0",
            "_model_name": "DescriptionStyleModel",
            "_view_count": null,
            "_view_module": "@jupyter-widgets/base",
            "_view_module_version": "1.2.0",
            "_view_name": "StyleView",
            "description_width": ""
          }
        },
        "852386249814488faff497b76d1d94bc": {
          "model_module": "@jupyter-widgets/controls",
          "model_name": "HBoxModel",
          "model_module_version": "1.5.0",
          "state": {
            "_dom_classes": [],
            "_model_module": "@jupyter-widgets/controls",
            "_model_module_version": "1.5.0",
            "_model_name": "HBoxModel",
            "_view_count": null,
            "_view_module": "@jupyter-widgets/controls",
            "_view_module_version": "1.5.0",
            "_view_name": "HBoxView",
            "box_style": "",
            "children": [
              "IPY_MODEL_49bf26f140ca44758861d1438d1a179e",
              "IPY_MODEL_ada861d5c8424398ba145cd06f9e7875",
              "IPY_MODEL_e875203bcfb94dd6a931c18fa2b2353f"
            ],
            "layout": "IPY_MODEL_0cb31ff69acf4eb48ecc7cec74c8aee4"
          }
        },
        "49bf26f140ca44758861d1438d1a179e": {
          "model_module": "@jupyter-widgets/controls",
          "model_name": "HTMLModel",
          "model_module_version": "1.5.0",
          "state": {
            "_dom_classes": [],
            "_model_module": "@jupyter-widgets/controls",
            "_model_module_version": "1.5.0",
            "_model_name": "HTMLModel",
            "_view_count": null,
            "_view_module": "@jupyter-widgets/controls",
            "_view_module_version": "1.5.0",
            "_view_name": "HTMLView",
            "description": "",
            "description_tooltip": null,
            "layout": "IPY_MODEL_0aff4eb6fd26492e986f77266fcdf10b",
            "placeholder": "​",
            "style": "IPY_MODEL_cb99e74f25bd4d1dbe3143744c4f6cd6",
            "value": "tokenizer.json: 100%"
          }
        },
        "ada861d5c8424398ba145cd06f9e7875": {
          "model_module": "@jupyter-widgets/controls",
          "model_name": "FloatProgressModel",
          "model_module_version": "1.5.0",
          "state": {
            "_dom_classes": [],
            "_model_module": "@jupyter-widgets/controls",
            "_model_module_version": "1.5.0",
            "_model_name": "FloatProgressModel",
            "_view_count": null,
            "_view_module": "@jupyter-widgets/controls",
            "_view_module_version": "1.5.0",
            "_view_name": "ProgressView",
            "bar_style": "success",
            "description": "",
            "description_tooltip": null,
            "layout": "IPY_MODEL_ddc7d1b8ed6d48ba8ccb179e69d3450a",
            "max": 1741842,
            "min": 0,
            "orientation": "horizontal",
            "style": "IPY_MODEL_672a7c80405b422a84792feabb3be889",
            "value": 1741842
          }
        },
        "e875203bcfb94dd6a931c18fa2b2353f": {
          "model_module": "@jupyter-widgets/controls",
          "model_name": "HTMLModel",
          "model_module_version": "1.5.0",
          "state": {
            "_dom_classes": [],
            "_model_module": "@jupyter-widgets/controls",
            "_model_module_version": "1.5.0",
            "_model_name": "HTMLModel",
            "_view_count": null,
            "_view_module": "@jupyter-widgets/controls",
            "_view_module_version": "1.5.0",
            "_view_name": "HTMLView",
            "description": "",
            "description_tooltip": null,
            "layout": "IPY_MODEL_13f606dadeb640ada669d66ebe088d5d",
            "placeholder": "​",
            "style": "IPY_MODEL_275b7e4dd1f849c4998dfdd457131e40",
            "value": " 1.74M/1.74M [00:00&lt;00:00, 14.5MB/s]"
          }
        },
        "0cb31ff69acf4eb48ecc7cec74c8aee4": {
          "model_module": "@jupyter-widgets/base",
          "model_name": "LayoutModel",
          "model_module_version": "1.2.0",
          "state": {
            "_model_module": "@jupyter-widgets/base",
            "_model_module_version": "1.2.0",
            "_model_name": "LayoutModel",
            "_view_count": null,
            "_view_module": "@jupyter-widgets/base",
            "_view_module_version": "1.2.0",
            "_view_name": "LayoutView",
            "align_content": null,
            "align_items": null,
            "align_self": null,
            "border": null,
            "bottom": null,
            "display": null,
            "flex": null,
            "flex_flow": null,
            "grid_area": null,
            "grid_auto_columns": null,
            "grid_auto_flow": null,
            "grid_auto_rows": null,
            "grid_column": null,
            "grid_gap": null,
            "grid_row": null,
            "grid_template_areas": null,
            "grid_template_columns": null,
            "grid_template_rows": null,
            "height": null,
            "justify_content": null,
            "justify_items": null,
            "left": null,
            "margin": null,
            "max_height": null,
            "max_width": null,
            "min_height": null,
            "min_width": null,
            "object_fit": null,
            "object_position": null,
            "order": null,
            "overflow": null,
            "overflow_x": null,
            "overflow_y": null,
            "padding": null,
            "right": null,
            "top": null,
            "visibility": null,
            "width": null
          }
        },
        "0aff4eb6fd26492e986f77266fcdf10b": {
          "model_module": "@jupyter-widgets/base",
          "model_name": "LayoutModel",
          "model_module_version": "1.2.0",
          "state": {
            "_model_module": "@jupyter-widgets/base",
            "_model_module_version": "1.2.0",
            "_model_name": "LayoutModel",
            "_view_count": null,
            "_view_module": "@jupyter-widgets/base",
            "_view_module_version": "1.2.0",
            "_view_name": "LayoutView",
            "align_content": null,
            "align_items": null,
            "align_self": null,
            "border": null,
            "bottom": null,
            "display": null,
            "flex": null,
            "flex_flow": null,
            "grid_area": null,
            "grid_auto_columns": null,
            "grid_auto_flow": null,
            "grid_auto_rows": null,
            "grid_column": null,
            "grid_gap": null,
            "grid_row": null,
            "grid_template_areas": null,
            "grid_template_columns": null,
            "grid_template_rows": null,
            "height": null,
            "justify_content": null,
            "justify_items": null,
            "left": null,
            "margin": null,
            "max_height": null,
            "max_width": null,
            "min_height": null,
            "min_width": null,
            "object_fit": null,
            "object_position": null,
            "order": null,
            "overflow": null,
            "overflow_x": null,
            "overflow_y": null,
            "padding": null,
            "right": null,
            "top": null,
            "visibility": null,
            "width": null
          }
        },
        "cb99e74f25bd4d1dbe3143744c4f6cd6": {
          "model_module": "@jupyter-widgets/controls",
          "model_name": "DescriptionStyleModel",
          "model_module_version": "1.5.0",
          "state": {
            "_model_module": "@jupyter-widgets/controls",
            "_model_module_version": "1.5.0",
            "_model_name": "DescriptionStyleModel",
            "_view_count": null,
            "_view_module": "@jupyter-widgets/base",
            "_view_module_version": "1.2.0",
            "_view_name": "StyleView",
            "description_width": ""
          }
        },
        "ddc7d1b8ed6d48ba8ccb179e69d3450a": {
          "model_module": "@jupyter-widgets/base",
          "model_name": "LayoutModel",
          "model_module_version": "1.2.0",
          "state": {
            "_model_module": "@jupyter-widgets/base",
            "_model_module_version": "1.2.0",
            "_model_name": "LayoutModel",
            "_view_count": null,
            "_view_module": "@jupyter-widgets/base",
            "_view_module_version": "1.2.0",
            "_view_name": "LayoutView",
            "align_content": null,
            "align_items": null,
            "align_self": null,
            "border": null,
            "bottom": null,
            "display": null,
            "flex": null,
            "flex_flow": null,
            "grid_area": null,
            "grid_auto_columns": null,
            "grid_auto_flow": null,
            "grid_auto_rows": null,
            "grid_column": null,
            "grid_gap": null,
            "grid_row": null,
            "grid_template_areas": null,
            "grid_template_columns": null,
            "grid_template_rows": null,
            "height": null,
            "justify_content": null,
            "justify_items": null,
            "left": null,
            "margin": null,
            "max_height": null,
            "max_width": null,
            "min_height": null,
            "min_width": null,
            "object_fit": null,
            "object_position": null,
            "order": null,
            "overflow": null,
            "overflow_x": null,
            "overflow_y": null,
            "padding": null,
            "right": null,
            "top": null,
            "visibility": null,
            "width": null
          }
        },
        "672a7c80405b422a84792feabb3be889": {
          "model_module": "@jupyter-widgets/controls",
          "model_name": "ProgressStyleModel",
          "model_module_version": "1.5.0",
          "state": {
            "_model_module": "@jupyter-widgets/controls",
            "_model_module_version": "1.5.0",
            "_model_name": "ProgressStyleModel",
            "_view_count": null,
            "_view_module": "@jupyter-widgets/base",
            "_view_module_version": "1.2.0",
            "_view_name": "StyleView",
            "bar_color": null,
            "description_width": ""
          }
        },
        "13f606dadeb640ada669d66ebe088d5d": {
          "model_module": "@jupyter-widgets/base",
          "model_name": "LayoutModel",
          "model_module_version": "1.2.0",
          "state": {
            "_model_module": "@jupyter-widgets/base",
            "_model_module_version": "1.2.0",
            "_model_name": "LayoutModel",
            "_view_count": null,
            "_view_module": "@jupyter-widgets/base",
            "_view_module_version": "1.2.0",
            "_view_name": "LayoutView",
            "align_content": null,
            "align_items": null,
            "align_self": null,
            "border": null,
            "bottom": null,
            "display": null,
            "flex": null,
            "flex_flow": null,
            "grid_area": null,
            "grid_auto_columns": null,
            "grid_auto_flow": null,
            "grid_auto_rows": null,
            "grid_column": null,
            "grid_gap": null,
            "grid_row": null,
            "grid_template_areas": null,
            "grid_template_columns": null,
            "grid_template_rows": null,
            "height": null,
            "justify_content": null,
            "justify_items": null,
            "left": null,
            "margin": null,
            "max_height": null,
            "max_width": null,
            "min_height": null,
            "min_width": null,
            "object_fit": null,
            "object_position": null,
            "order": null,
            "overflow": null,
            "overflow_x": null,
            "overflow_y": null,
            "padding": null,
            "right": null,
            "top": null,
            "visibility": null,
            "width": null
          }
        },
        "275b7e4dd1f849c4998dfdd457131e40": {
          "model_module": "@jupyter-widgets/controls",
          "model_name": "DescriptionStyleModel",
          "model_module_version": "1.5.0",
          "state": {
            "_model_module": "@jupyter-widgets/controls",
            "_model_module_version": "1.5.0",
            "_model_name": "DescriptionStyleModel",
            "_view_count": null,
            "_view_module": "@jupyter-widgets/base",
            "_view_module_version": "1.2.0",
            "_view_name": "StyleView",
            "description_width": ""
          }
        },
        "bbc9eeb62a6c44b0af7a3359ca01a324": {
          "model_module": "@jupyter-widgets/controls",
          "model_name": "HBoxModel",
          "model_module_version": "1.5.0",
          "state": {
            "_dom_classes": [],
            "_model_module": "@jupyter-widgets/controls",
            "_model_module_version": "1.5.0",
            "_model_name": "HBoxModel",
            "_view_count": null,
            "_view_module": "@jupyter-widgets/controls",
            "_view_module_version": "1.5.0",
            "_view_name": "HBoxView",
            "box_style": "",
            "children": [
              "IPY_MODEL_81ac98924e3043af96a1e1293044be57",
              "IPY_MODEL_3ec62a312fc94dc3a48071b51fe849ad",
              "IPY_MODEL_86d2d5701c4042a08513753c01f7f961"
            ],
            "layout": "IPY_MODEL_06d4c714d3be4c30a95b2d0c828e7321"
          }
        },
        "81ac98924e3043af96a1e1293044be57": {
          "model_module": "@jupyter-widgets/controls",
          "model_name": "HTMLModel",
          "model_module_version": "1.5.0",
          "state": {
            "_dom_classes": [],
            "_model_module": "@jupyter-widgets/controls",
            "_model_module_version": "1.5.0",
            "_model_name": "HTMLModel",
            "_view_count": null,
            "_view_module": "@jupyter-widgets/controls",
            "_view_module_version": "1.5.0",
            "_view_name": "HTMLView",
            "description": "",
            "description_tooltip": null,
            "layout": "IPY_MODEL_d02716ae9cc545608e9f39a67fd36c17",
            "placeholder": "​",
            "style": "IPY_MODEL_733fd129fe0e413cbace735653826c96",
            "value": "special_tokens_map.json: 100%"
          }
        },
        "3ec62a312fc94dc3a48071b51fe849ad": {
          "model_module": "@jupyter-widgets/controls",
          "model_name": "FloatProgressModel",
          "model_module_version": "1.5.0",
          "state": {
            "_dom_classes": [],
            "_model_module": "@jupyter-widgets/controls",
            "_model_module_version": "1.5.0",
            "_model_name": "FloatProgressModel",
            "_view_count": null,
            "_view_module": "@jupyter-widgets/controls",
            "_view_module_version": "1.5.0",
            "_view_name": "ProgressView",
            "bar_style": "success",
            "description": "",
            "description_tooltip": null,
            "layout": "IPY_MODEL_39bf862558c7434fba76b26b834b79f8",
            "max": 112,
            "min": 0,
            "orientation": "horizontal",
            "style": "IPY_MODEL_42d1edcaf86c440db0e5617ea4f5a1fd",
            "value": 112
          }
        },
        "86d2d5701c4042a08513753c01f7f961": {
          "model_module": "@jupyter-widgets/controls",
          "model_name": "HTMLModel",
          "model_module_version": "1.5.0",
          "state": {
            "_dom_classes": [],
            "_model_module": "@jupyter-widgets/controls",
            "_model_module_version": "1.5.0",
            "_model_name": "HTMLModel",
            "_view_count": null,
            "_view_module": "@jupyter-widgets/controls",
            "_view_module_version": "1.5.0",
            "_view_name": "HTMLView",
            "description": "",
            "description_tooltip": null,
            "layout": "IPY_MODEL_80f186c747174fa7a4f55d9b3346e6c3",
            "placeholder": "​",
            "style": "IPY_MODEL_a92867398d19463fa2facef46436cf75",
            "value": " 112/112 [00:00&lt;00:00, 5.36kB/s]"
          }
        },
        "06d4c714d3be4c30a95b2d0c828e7321": {
          "model_module": "@jupyter-widgets/base",
          "model_name": "LayoutModel",
          "model_module_version": "1.2.0",
          "state": {
            "_model_module": "@jupyter-widgets/base",
            "_model_module_version": "1.2.0",
            "_model_name": "LayoutModel",
            "_view_count": null,
            "_view_module": "@jupyter-widgets/base",
            "_view_module_version": "1.2.0",
            "_view_name": "LayoutView",
            "align_content": null,
            "align_items": null,
            "align_self": null,
            "border": null,
            "bottom": null,
            "display": null,
            "flex": null,
            "flex_flow": null,
            "grid_area": null,
            "grid_auto_columns": null,
            "grid_auto_flow": null,
            "grid_auto_rows": null,
            "grid_column": null,
            "grid_gap": null,
            "grid_row": null,
            "grid_template_areas": null,
            "grid_template_columns": null,
            "grid_template_rows": null,
            "height": null,
            "justify_content": null,
            "justify_items": null,
            "left": null,
            "margin": null,
            "max_height": null,
            "max_width": null,
            "min_height": null,
            "min_width": null,
            "object_fit": null,
            "object_position": null,
            "order": null,
            "overflow": null,
            "overflow_x": null,
            "overflow_y": null,
            "padding": null,
            "right": null,
            "top": null,
            "visibility": null,
            "width": null
          }
        },
        "d02716ae9cc545608e9f39a67fd36c17": {
          "model_module": "@jupyter-widgets/base",
          "model_name": "LayoutModel",
          "model_module_version": "1.2.0",
          "state": {
            "_model_module": "@jupyter-widgets/base",
            "_model_module_version": "1.2.0",
            "_model_name": "LayoutModel",
            "_view_count": null,
            "_view_module": "@jupyter-widgets/base",
            "_view_module_version": "1.2.0",
            "_view_name": "LayoutView",
            "align_content": null,
            "align_items": null,
            "align_self": null,
            "border": null,
            "bottom": null,
            "display": null,
            "flex": null,
            "flex_flow": null,
            "grid_area": null,
            "grid_auto_columns": null,
            "grid_auto_flow": null,
            "grid_auto_rows": null,
            "grid_column": null,
            "grid_gap": null,
            "grid_row": null,
            "grid_template_areas": null,
            "grid_template_columns": null,
            "grid_template_rows": null,
            "height": null,
            "justify_content": null,
            "justify_items": null,
            "left": null,
            "margin": null,
            "max_height": null,
            "max_width": null,
            "min_height": null,
            "min_width": null,
            "object_fit": null,
            "object_position": null,
            "order": null,
            "overflow": null,
            "overflow_x": null,
            "overflow_y": null,
            "padding": null,
            "right": null,
            "top": null,
            "visibility": null,
            "width": null
          }
        },
        "733fd129fe0e413cbace735653826c96": {
          "model_module": "@jupyter-widgets/controls",
          "model_name": "DescriptionStyleModel",
          "model_module_version": "1.5.0",
          "state": {
            "_model_module": "@jupyter-widgets/controls",
            "_model_module_version": "1.5.0",
            "_model_name": "DescriptionStyleModel",
            "_view_count": null,
            "_view_module": "@jupyter-widgets/base",
            "_view_module_version": "1.2.0",
            "_view_name": "StyleView",
            "description_width": ""
          }
        },
        "39bf862558c7434fba76b26b834b79f8": {
          "model_module": "@jupyter-widgets/base",
          "model_name": "LayoutModel",
          "model_module_version": "1.2.0",
          "state": {
            "_model_module": "@jupyter-widgets/base",
            "_model_module_version": "1.2.0",
            "_model_name": "LayoutModel",
            "_view_count": null,
            "_view_module": "@jupyter-widgets/base",
            "_view_module_version": "1.2.0",
            "_view_name": "LayoutView",
            "align_content": null,
            "align_items": null,
            "align_self": null,
            "border": null,
            "bottom": null,
            "display": null,
            "flex": null,
            "flex_flow": null,
            "grid_area": null,
            "grid_auto_columns": null,
            "grid_auto_flow": null,
            "grid_auto_rows": null,
            "grid_column": null,
            "grid_gap": null,
            "grid_row": null,
            "grid_template_areas": null,
            "grid_template_columns": null,
            "grid_template_rows": null,
            "height": null,
            "justify_content": null,
            "justify_items": null,
            "left": null,
            "margin": null,
            "max_height": null,
            "max_width": null,
            "min_height": null,
            "min_width": null,
            "object_fit": null,
            "object_position": null,
            "order": null,
            "overflow": null,
            "overflow_x": null,
            "overflow_y": null,
            "padding": null,
            "right": null,
            "top": null,
            "visibility": null,
            "width": null
          }
        },
        "42d1edcaf86c440db0e5617ea4f5a1fd": {
          "model_module": "@jupyter-widgets/controls",
          "model_name": "ProgressStyleModel",
          "model_module_version": "1.5.0",
          "state": {
            "_model_module": "@jupyter-widgets/controls",
            "_model_module_version": "1.5.0",
            "_model_name": "ProgressStyleModel",
            "_view_count": null,
            "_view_module": "@jupyter-widgets/base",
            "_view_module_version": "1.2.0",
            "_view_name": "StyleView",
            "bar_color": null,
            "description_width": ""
          }
        },
        "80f186c747174fa7a4f55d9b3346e6c3": {
          "model_module": "@jupyter-widgets/base",
          "model_name": "LayoutModel",
          "model_module_version": "1.2.0",
          "state": {
            "_model_module": "@jupyter-widgets/base",
            "_model_module_version": "1.2.0",
            "_model_name": "LayoutModel",
            "_view_count": null,
            "_view_module": "@jupyter-widgets/base",
            "_view_module_version": "1.2.0",
            "_view_name": "LayoutView",
            "align_content": null,
            "align_items": null,
            "align_self": null,
            "border": null,
            "bottom": null,
            "display": null,
            "flex": null,
            "flex_flow": null,
            "grid_area": null,
            "grid_auto_columns": null,
            "grid_auto_flow": null,
            "grid_auto_rows": null,
            "grid_column": null,
            "grid_gap": null,
            "grid_row": null,
            "grid_template_areas": null,
            "grid_template_columns": null,
            "grid_template_rows": null,
            "height": null,
            "justify_content": null,
            "justify_items": null,
            "left": null,
            "margin": null,
            "max_height": null,
            "max_width": null,
            "min_height": null,
            "min_width": null,
            "object_fit": null,
            "object_position": null,
            "order": null,
            "overflow": null,
            "overflow_x": null,
            "overflow_y": null,
            "padding": null,
            "right": null,
            "top": null,
            "visibility": null,
            "width": null
          }
        },
        "a92867398d19463fa2facef46436cf75": {
          "model_module": "@jupyter-widgets/controls",
          "model_name": "DescriptionStyleModel",
          "model_module_version": "1.5.0",
          "state": {
            "_model_module": "@jupyter-widgets/controls",
            "_model_module_version": "1.5.0",
            "_model_name": "DescriptionStyleModel",
            "_view_count": null,
            "_view_module": "@jupyter-widgets/base",
            "_view_module_version": "1.2.0",
            "_view_name": "StyleView",
            "description_width": ""
          }
        },
        "d97724bb120944d8bc35435403defc45": {
          "model_module": "@jupyter-widgets/controls",
          "model_name": "HBoxModel",
          "model_module_version": "1.5.0",
          "state": {
            "_dom_classes": [],
            "_model_module": "@jupyter-widgets/controls",
            "_model_module_version": "1.5.0",
            "_model_name": "HBoxModel",
            "_view_count": null,
            "_view_module": "@jupyter-widgets/controls",
            "_view_module_version": "1.5.0",
            "_view_name": "HBoxView",
            "box_style": "",
            "children": [
              "IPY_MODEL_d7ed12512d1447a58ffaa22ae9d509d6",
              "IPY_MODEL_9e7c1f9d884b4192ab239db5e572c86f",
              "IPY_MODEL_0abaeb06e33e4df8ab0a693d65194c39"
            ],
            "layout": "IPY_MODEL_fcc361538a5c419ea27b64a09f0df120"
          }
        },
        "d7ed12512d1447a58ffaa22ae9d509d6": {
          "model_module": "@jupyter-widgets/controls",
          "model_name": "HTMLModel",
          "model_module_version": "1.5.0",
          "state": {
            "_dom_classes": [],
            "_model_module": "@jupyter-widgets/controls",
            "_model_module_version": "1.5.0",
            "_model_name": "HTMLModel",
            "_view_count": null,
            "_view_module": "@jupyter-widgets/controls",
            "_view_module_version": "1.5.0",
            "_view_name": "HTMLView",
            "description": "",
            "description_tooltip": null,
            "layout": "IPY_MODEL_2393907762484416be2feba698faaf9e",
            "placeholder": "​",
            "style": "IPY_MODEL_754edcedb2fd4cbda5fddfe4c31ffe88",
            "value": "config.json: 100%"
          }
        },
        "9e7c1f9d884b4192ab239db5e572c86f": {
          "model_module": "@jupyter-widgets/controls",
          "model_name": "FloatProgressModel",
          "model_module_version": "1.5.0",
          "state": {
            "_dom_classes": [],
            "_model_module": "@jupyter-widgets/controls",
            "_model_module_version": "1.5.0",
            "_model_name": "FloatProgressModel",
            "_view_count": null,
            "_view_module": "@jupyter-widgets/controls",
            "_view_module_version": "1.5.0",
            "_view_name": "ProgressView",
            "bar_style": "success",
            "description": "",
            "description_tooltip": null,
            "layout": "IPY_MODEL_8f79f1f06459427cb3958d6853fa00c0",
            "max": 693,
            "min": 0,
            "orientation": "horizontal",
            "style": "IPY_MODEL_930d57ed89d54b51ac07d548a394186d",
            "value": 693
          }
        },
        "0abaeb06e33e4df8ab0a693d65194c39": {
          "model_module": "@jupyter-widgets/controls",
          "model_name": "HTMLModel",
          "model_module_version": "1.5.0",
          "state": {
            "_dom_classes": [],
            "_model_module": "@jupyter-widgets/controls",
            "_model_module_version": "1.5.0",
            "_model_name": "HTMLModel",
            "_view_count": null,
            "_view_module": "@jupyter-widgets/controls",
            "_view_module_version": "1.5.0",
            "_view_name": "HTMLView",
            "description": "",
            "description_tooltip": null,
            "layout": "IPY_MODEL_473b3c7ebf174dcd8e975eab73ad619b",
            "placeholder": "​",
            "style": "IPY_MODEL_ad42827003cd40dba73d62e56af76917",
            "value": " 693/693 [00:00&lt;00:00, 37.7kB/s]"
          }
        },
        "fcc361538a5c419ea27b64a09f0df120": {
          "model_module": "@jupyter-widgets/base",
          "model_name": "LayoutModel",
          "model_module_version": "1.2.0",
          "state": {
            "_model_module": "@jupyter-widgets/base",
            "_model_module_version": "1.2.0",
            "_model_name": "LayoutModel",
            "_view_count": null,
            "_view_module": "@jupyter-widgets/base",
            "_view_module_version": "1.2.0",
            "_view_name": "LayoutView",
            "align_content": null,
            "align_items": null,
            "align_self": null,
            "border": null,
            "bottom": null,
            "display": null,
            "flex": null,
            "flex_flow": null,
            "grid_area": null,
            "grid_auto_columns": null,
            "grid_auto_flow": null,
            "grid_auto_rows": null,
            "grid_column": null,
            "grid_gap": null,
            "grid_row": null,
            "grid_template_areas": null,
            "grid_template_columns": null,
            "grid_template_rows": null,
            "height": null,
            "justify_content": null,
            "justify_items": null,
            "left": null,
            "margin": null,
            "max_height": null,
            "max_width": null,
            "min_height": null,
            "min_width": null,
            "object_fit": null,
            "object_position": null,
            "order": null,
            "overflow": null,
            "overflow_x": null,
            "overflow_y": null,
            "padding": null,
            "right": null,
            "top": null,
            "visibility": null,
            "width": null
          }
        },
        "2393907762484416be2feba698faaf9e": {
          "model_module": "@jupyter-widgets/base",
          "model_name": "LayoutModel",
          "model_module_version": "1.2.0",
          "state": {
            "_model_module": "@jupyter-widgets/base",
            "_model_module_version": "1.2.0",
            "_model_name": "LayoutModel",
            "_view_count": null,
            "_view_module": "@jupyter-widgets/base",
            "_view_module_version": "1.2.0",
            "_view_name": "LayoutView",
            "align_content": null,
            "align_items": null,
            "align_self": null,
            "border": null,
            "bottom": null,
            "display": null,
            "flex": null,
            "flex_flow": null,
            "grid_area": null,
            "grid_auto_columns": null,
            "grid_auto_flow": null,
            "grid_auto_rows": null,
            "grid_column": null,
            "grid_gap": null,
            "grid_row": null,
            "grid_template_areas": null,
            "grid_template_columns": null,
            "grid_template_rows": null,
            "height": null,
            "justify_content": null,
            "justify_items": null,
            "left": null,
            "margin": null,
            "max_height": null,
            "max_width": null,
            "min_height": null,
            "min_width": null,
            "object_fit": null,
            "object_position": null,
            "order": null,
            "overflow": null,
            "overflow_x": null,
            "overflow_y": null,
            "padding": null,
            "right": null,
            "top": null,
            "visibility": null,
            "width": null
          }
        },
        "754edcedb2fd4cbda5fddfe4c31ffe88": {
          "model_module": "@jupyter-widgets/controls",
          "model_name": "DescriptionStyleModel",
          "model_module_version": "1.5.0",
          "state": {
            "_model_module": "@jupyter-widgets/controls",
            "_model_module_version": "1.5.0",
            "_model_name": "DescriptionStyleModel",
            "_view_count": null,
            "_view_module": "@jupyter-widgets/base",
            "_view_module_version": "1.2.0",
            "_view_name": "StyleView",
            "description_width": ""
          }
        },
        "8f79f1f06459427cb3958d6853fa00c0": {
          "model_module": "@jupyter-widgets/base",
          "model_name": "LayoutModel",
          "model_module_version": "1.2.0",
          "state": {
            "_model_module": "@jupyter-widgets/base",
            "_model_module_version": "1.2.0",
            "_model_name": "LayoutModel",
            "_view_count": null,
            "_view_module": "@jupyter-widgets/base",
            "_view_module_version": "1.2.0",
            "_view_name": "LayoutView",
            "align_content": null,
            "align_items": null,
            "align_self": null,
            "border": null,
            "bottom": null,
            "display": null,
            "flex": null,
            "flex_flow": null,
            "grid_area": null,
            "grid_auto_columns": null,
            "grid_auto_flow": null,
            "grid_auto_rows": null,
            "grid_column": null,
            "grid_gap": null,
            "grid_row": null,
            "grid_template_areas": null,
            "grid_template_columns": null,
            "grid_template_rows": null,
            "height": null,
            "justify_content": null,
            "justify_items": null,
            "left": null,
            "margin": null,
            "max_height": null,
            "max_width": null,
            "min_height": null,
            "min_width": null,
            "object_fit": null,
            "object_position": null,
            "order": null,
            "overflow": null,
            "overflow_x": null,
            "overflow_y": null,
            "padding": null,
            "right": null,
            "top": null,
            "visibility": null,
            "width": null
          }
        },
        "930d57ed89d54b51ac07d548a394186d": {
          "model_module": "@jupyter-widgets/controls",
          "model_name": "ProgressStyleModel",
          "model_module_version": "1.5.0",
          "state": {
            "_model_module": "@jupyter-widgets/controls",
            "_model_module_version": "1.5.0",
            "_model_name": "ProgressStyleModel",
            "_view_count": null,
            "_view_module": "@jupyter-widgets/base",
            "_view_module_version": "1.2.0",
            "_view_name": "StyleView",
            "bar_color": null,
            "description_width": ""
          }
        },
        "473b3c7ebf174dcd8e975eab73ad619b": {
          "model_module": "@jupyter-widgets/base",
          "model_name": "LayoutModel",
          "model_module_version": "1.2.0",
          "state": {
            "_model_module": "@jupyter-widgets/base",
            "_model_module_version": "1.2.0",
            "_model_name": "LayoutModel",
            "_view_count": null,
            "_view_module": "@jupyter-widgets/base",
            "_view_module_version": "1.2.0",
            "_view_name": "LayoutView",
            "align_content": null,
            "align_items": null,
            "align_self": null,
            "border": null,
            "bottom": null,
            "display": null,
            "flex": null,
            "flex_flow": null,
            "grid_area": null,
            "grid_auto_columns": null,
            "grid_auto_flow": null,
            "grid_auto_rows": null,
            "grid_column": null,
            "grid_gap": null,
            "grid_row": null,
            "grid_template_areas": null,
            "grid_template_columns": null,
            "grid_template_rows": null,
            "height": null,
            "justify_content": null,
            "justify_items": null,
            "left": null,
            "margin": null,
            "max_height": null,
            "max_width": null,
            "min_height": null,
            "min_width": null,
            "object_fit": null,
            "object_position": null,
            "order": null,
            "overflow": null,
            "overflow_x": null,
            "overflow_y": null,
            "padding": null,
            "right": null,
            "top": null,
            "visibility": null,
            "width": null
          }
        },
        "ad42827003cd40dba73d62e56af76917": {
          "model_module": "@jupyter-widgets/controls",
          "model_name": "DescriptionStyleModel",
          "model_module_version": "1.5.0",
          "state": {
            "_model_module": "@jupyter-widgets/controls",
            "_model_module_version": "1.5.0",
            "_model_name": "DescriptionStyleModel",
            "_view_count": null,
            "_view_module": "@jupyter-widgets/base",
            "_view_module_version": "1.2.0",
            "_view_name": "StyleView",
            "description_width": ""
          }
        },
        "8f2bdc3e73644725bc1abe7c32680866": {
          "model_module": "@jupyter-widgets/controls",
          "model_name": "HBoxModel",
          "model_module_version": "1.5.0",
          "state": {
            "_dom_classes": [],
            "_model_module": "@jupyter-widgets/controls",
            "_model_module_version": "1.5.0",
            "_model_name": "HBoxModel",
            "_view_count": null,
            "_view_module": "@jupyter-widgets/controls",
            "_view_module_version": "1.5.0",
            "_view_name": "HBoxView",
            "box_style": "",
            "children": [
              "IPY_MODEL_765b295b01c14c4884508e4d96fbb16e",
              "IPY_MODEL_29b49e3671a647748092d7c4e5561ebf",
              "IPY_MODEL_fd54564ab52b4b32b790eb95ef86748e"
            ],
            "layout": "IPY_MODEL_011405eb6b5b4632aed402353a9b9b61"
          }
        },
        "765b295b01c14c4884508e4d96fbb16e": {
          "model_module": "@jupyter-widgets/controls",
          "model_name": "HTMLModel",
          "model_module_version": "1.5.0",
          "state": {
            "_dom_classes": [],
            "_model_module": "@jupyter-widgets/controls",
            "_model_module_version": "1.5.0",
            "_model_name": "HTMLModel",
            "_view_count": null,
            "_view_module": "@jupyter-widgets/controls",
            "_view_module_version": "1.5.0",
            "_view_name": "HTMLView",
            "description": "",
            "description_tooltip": null,
            "layout": "IPY_MODEL_3460fd3f9a13497180160360762c73c8",
            "placeholder": "​",
            "style": "IPY_MODEL_b81c533033194fd385fad6d4a34739dd",
            "value": "model.safetensors: 100%"
          }
        },
        "29b49e3671a647748092d7c4e5561ebf": {
          "model_module": "@jupyter-widgets/controls",
          "model_name": "FloatProgressModel",
          "model_module_version": "1.5.0",
          "state": {
            "_dom_classes": [],
            "_model_module": "@jupyter-widgets/controls",
            "_model_module_version": "1.5.0",
            "_model_name": "FloatProgressModel",
            "_view_count": null,
            "_view_module": "@jupyter-widgets/controls",
            "_view_module_version": "1.5.0",
            "_view_name": "ProgressView",
            "bar_style": "success",
            "description": "",
            "description_tooltip": null,
            "layout": "IPY_MODEL_02cb21467cd24546ae0c4e412d560410",
            "max": 117529600,
            "min": 0,
            "orientation": "horizontal",
            "style": "IPY_MODEL_2d432cbd6f63462cb0c89440c6040400",
            "value": 117529600
          }
        },
        "fd54564ab52b4b32b790eb95ef86748e": {
          "model_module": "@jupyter-widgets/controls",
          "model_name": "HTMLModel",
          "model_module_version": "1.5.0",
          "state": {
            "_dom_classes": [],
            "_model_module": "@jupyter-widgets/controls",
            "_model_module_version": "1.5.0",
            "_model_name": "HTMLModel",
            "_view_count": null,
            "_view_module": "@jupyter-widgets/controls",
            "_view_module_version": "1.5.0",
            "_view_name": "HTMLView",
            "description": "",
            "description_tooltip": null,
            "layout": "IPY_MODEL_a9b4d5ebc6864d92a6dc6ecd15ce46f2",
            "placeholder": "​",
            "style": "IPY_MODEL_3b82888bbe5a4d2a9c93e27531e9b5f2",
            "value": " 118M/118M [00:00&lt;00:00, 160MB/s]"
          }
        },
        "011405eb6b5b4632aed402353a9b9b61": {
          "model_module": "@jupyter-widgets/base",
          "model_name": "LayoutModel",
          "model_module_version": "1.2.0",
          "state": {
            "_model_module": "@jupyter-widgets/base",
            "_model_module_version": "1.2.0",
            "_model_name": "LayoutModel",
            "_view_count": null,
            "_view_module": "@jupyter-widgets/base",
            "_view_module_version": "1.2.0",
            "_view_name": "LayoutView",
            "align_content": null,
            "align_items": null,
            "align_self": null,
            "border": null,
            "bottom": null,
            "display": null,
            "flex": null,
            "flex_flow": null,
            "grid_area": null,
            "grid_auto_columns": null,
            "grid_auto_flow": null,
            "grid_auto_rows": null,
            "grid_column": null,
            "grid_gap": null,
            "grid_row": null,
            "grid_template_areas": null,
            "grid_template_columns": null,
            "grid_template_rows": null,
            "height": null,
            "justify_content": null,
            "justify_items": null,
            "left": null,
            "margin": null,
            "max_height": null,
            "max_width": null,
            "min_height": null,
            "min_width": null,
            "object_fit": null,
            "object_position": null,
            "order": null,
            "overflow": null,
            "overflow_x": null,
            "overflow_y": null,
            "padding": null,
            "right": null,
            "top": null,
            "visibility": null,
            "width": null
          }
        },
        "3460fd3f9a13497180160360762c73c8": {
          "model_module": "@jupyter-widgets/base",
          "model_name": "LayoutModel",
          "model_module_version": "1.2.0",
          "state": {
            "_model_module": "@jupyter-widgets/base",
            "_model_module_version": "1.2.0",
            "_model_name": "LayoutModel",
            "_view_count": null,
            "_view_module": "@jupyter-widgets/base",
            "_view_module_version": "1.2.0",
            "_view_name": "LayoutView",
            "align_content": null,
            "align_items": null,
            "align_self": null,
            "border": null,
            "bottom": null,
            "display": null,
            "flex": null,
            "flex_flow": null,
            "grid_area": null,
            "grid_auto_columns": null,
            "grid_auto_flow": null,
            "grid_auto_rows": null,
            "grid_column": null,
            "grid_gap": null,
            "grid_row": null,
            "grid_template_areas": null,
            "grid_template_columns": null,
            "grid_template_rows": null,
            "height": null,
            "justify_content": null,
            "justify_items": null,
            "left": null,
            "margin": null,
            "max_height": null,
            "max_width": null,
            "min_height": null,
            "min_width": null,
            "object_fit": null,
            "object_position": null,
            "order": null,
            "overflow": null,
            "overflow_x": null,
            "overflow_y": null,
            "padding": null,
            "right": null,
            "top": null,
            "visibility": null,
            "width": null
          }
        },
        "b81c533033194fd385fad6d4a34739dd": {
          "model_module": "@jupyter-widgets/controls",
          "model_name": "DescriptionStyleModel",
          "model_module_version": "1.5.0",
          "state": {
            "_model_module": "@jupyter-widgets/controls",
            "_model_module_version": "1.5.0",
            "_model_name": "DescriptionStyleModel",
            "_view_count": null,
            "_view_module": "@jupyter-widgets/base",
            "_view_module_version": "1.2.0",
            "_view_name": "StyleView",
            "description_width": ""
          }
        },
        "02cb21467cd24546ae0c4e412d560410": {
          "model_module": "@jupyter-widgets/base",
          "model_name": "LayoutModel",
          "model_module_version": "1.2.0",
          "state": {
            "_model_module": "@jupyter-widgets/base",
            "_model_module_version": "1.2.0",
            "_model_name": "LayoutModel",
            "_view_count": null,
            "_view_module": "@jupyter-widgets/base",
            "_view_module_version": "1.2.0",
            "_view_name": "LayoutView",
            "align_content": null,
            "align_items": null,
            "align_self": null,
            "border": null,
            "bottom": null,
            "display": null,
            "flex": null,
            "flex_flow": null,
            "grid_area": null,
            "grid_auto_columns": null,
            "grid_auto_flow": null,
            "grid_auto_rows": null,
            "grid_column": null,
            "grid_gap": null,
            "grid_row": null,
            "grid_template_areas": null,
            "grid_template_columns": null,
            "grid_template_rows": null,
            "height": null,
            "justify_content": null,
            "justify_items": null,
            "left": null,
            "margin": null,
            "max_height": null,
            "max_width": null,
            "min_height": null,
            "min_width": null,
            "object_fit": null,
            "object_position": null,
            "order": null,
            "overflow": null,
            "overflow_x": null,
            "overflow_y": null,
            "padding": null,
            "right": null,
            "top": null,
            "visibility": null,
            "width": null
          }
        },
        "2d432cbd6f63462cb0c89440c6040400": {
          "model_module": "@jupyter-widgets/controls",
          "model_name": "ProgressStyleModel",
          "model_module_version": "1.5.0",
          "state": {
            "_model_module": "@jupyter-widgets/controls",
            "_model_module_version": "1.5.0",
            "_model_name": "ProgressStyleModel",
            "_view_count": null,
            "_view_module": "@jupyter-widgets/base",
            "_view_module_version": "1.2.0",
            "_view_name": "StyleView",
            "bar_color": null,
            "description_width": ""
          }
        },
        "a9b4d5ebc6864d92a6dc6ecd15ce46f2": {
          "model_module": "@jupyter-widgets/base",
          "model_name": "LayoutModel",
          "model_module_version": "1.2.0",
          "state": {
            "_model_module": "@jupyter-widgets/base",
            "_model_module_version": "1.2.0",
            "_model_name": "LayoutModel",
            "_view_count": null,
            "_view_module": "@jupyter-widgets/base",
            "_view_module_version": "1.2.0",
            "_view_name": "LayoutView",
            "align_content": null,
            "align_items": null,
            "align_self": null,
            "border": null,
            "bottom": null,
            "display": null,
            "flex": null,
            "flex_flow": null,
            "grid_area": null,
            "grid_auto_columns": null,
            "grid_auto_flow": null,
            "grid_auto_rows": null,
            "grid_column": null,
            "grid_gap": null,
            "grid_row": null,
            "grid_template_areas": null,
            "grid_template_columns": null,
            "grid_template_rows": null,
            "height": null,
            "justify_content": null,
            "justify_items": null,
            "left": null,
            "margin": null,
            "max_height": null,
            "max_width": null,
            "min_height": null,
            "min_width": null,
            "object_fit": null,
            "object_position": null,
            "order": null,
            "overflow": null,
            "overflow_x": null,
            "overflow_y": null,
            "padding": null,
            "right": null,
            "top": null,
            "visibility": null,
            "width": null
          }
        },
        "3b82888bbe5a4d2a9c93e27531e9b5f2": {
          "model_module": "@jupyter-widgets/controls",
          "model_name": "DescriptionStyleModel",
          "model_module_version": "1.5.0",
          "state": {
            "_model_module": "@jupyter-widgets/controls",
            "_model_module_version": "1.5.0",
            "_model_name": "DescriptionStyleModel",
            "_view_count": null,
            "_view_module": "@jupyter-widgets/base",
            "_view_module_version": "1.2.0",
            "_view_name": "StyleView",
            "description_width": ""
          }
        }
      }
    }
  },
  "cells": [
    {
      "cell_type": "markdown",
      "source": [
        "## BERT-классификатор"
      ],
      "metadata": {
        "id": "lpbZ2Wf8s1no"
      }
    },
    {
      "cell_type": "markdown",
      "source": [
        "В качестве модели для дообучения будем использовать русскоязычную BERT-модель rubert-tiny2"
      ],
      "metadata": {
        "id": "OLw-PoiNkvxz"
      }
    },
    {
      "cell_type": "code",
      "source": [
        "TF_BERT_MODEL_NAME = \"cointegrated/rubert-tiny2\""
      ],
      "metadata": {
        "id": "VqPrsFfZkwR6"
      },
      "execution_count": null,
      "outputs": []
    },
    {
      "cell_type": "code",
      "source": [
        "from huggingface_hub import login\n",
        "from google.colab import userdata\n",
        "\n",
        "login(userdata.get(\"HF_TOKEN\"))"
      ],
      "metadata": {
        "id": "YwPegqe3nDII"
      },
      "execution_count": null,
      "outputs": []
    },
    {
      "cell_type": "code",
      "source": [
        "# для воспроизводимости результатов\n",
        "SEED = 42"
      ],
      "metadata": {
        "id": "afqeiYtwocZx"
      },
      "execution_count": null,
      "outputs": []
    },
    {
      "cell_type": "markdown",
      "source": [
        "### Импорты"
      ],
      "metadata": {
        "id": "Mz25jznZSH46"
      }
    },
    {
      "cell_type": "code",
      "source": [
        "!pip install -q imblearn"
      ],
      "metadata": {
        "id": "G7By9_h4glpk"
      },
      "execution_count": null,
      "outputs": []
    },
    {
      "cell_type": "code",
      "source": [
        "import numpy as np\n",
        "import pandas as pd\n",
        "import re\n",
        "import string\n",
        "from imblearn.over_sampling import RandomOverSampler\n",
        "from sklearn.model_selection import train_test_split\n",
        "from sklearn import preprocessing\n",
        "\n",
        "from transformers import BertTokenizerFast\n",
        "from transformers import TFBertModel\n",
        "import tensorflow as tf\n",
        "from tensorflow import keras\n",
        "\n",
        "from sklearn.metrics import classification_report, confusion_matrix\n",
        "\n",
        "import matplotlib.pyplot as plt\n",
        "import seaborn as sns\n",
        "\n",
        "import warnings\n",
        "warnings.filterwarnings(\"ignore\")"
      ],
      "metadata": {
        "id": "kEViI_RHSK20"
      },
      "execution_count": null,
      "outputs": []
    },
    {
      "cell_type": "markdown",
      "source": [
        "### Загрузим и подготовим данные"
      ],
      "metadata": {
        "id": "lNVn68yrTb9W"
      }
    },
    {
      "cell_type": "markdown",
      "source": [
        "Используем датасет с произведениями русских писателей"
      ],
      "metadata": {
        "id": "YusQEzE7QFcZ"
      }
    },
    {
      "cell_type": "code",
      "source": [
        "data_path = keras.utils.get_file(\n",
        "    \"russian_literature.zip\",\n",
        "    \"https://storage.yandexcloud.net/academy.ai/russian_literature.zip\"\n",
        ")"
      ],
      "metadata": {
        "id": "E6_JfiBIk-JC",
        "colab": {
          "base_uri": "https://localhost:8080/"
        },
        "outputId": "753e45ac-3522-4825-c1f0-11f46a28e6df"
      },
      "execution_count": null,
      "outputs": [
        {
          "output_type": "stream",
          "name": "stdout",
          "text": [
            "Downloading data from https://storage.yandexcloud.net/academy.ai/russian_literature.zip\n",
            "21547079/21547079 [==============================] - 2s 0us/step\n"
          ]
        }
      ]
    },
    {
      "cell_type": "code",
      "source": [
        "!unzip -qo \"{data_path}\" -d ./dataset"
      ],
      "metadata": {
        "id": "XfNf52fmlXYi",
        "colab": {
          "base_uri": "https://localhost:8080/"
        },
        "outputId": "eb0b592a-a9d9-48e8-f27b-ea54871a31f3"
      },
      "execution_count": null,
      "outputs": [
        {
          "output_type": "stream",
          "name": "stdout",
          "text": [
            "error:  cannot create ./dataset/poems/Blok/╨б╤В╨╕╤Е╨╛╤В╨▓╨╛╤А╨╡╨╜╨╕╤П 1897-1903 ╨│╨│, ╨╜╨╡ ╨▓╨╛╤И╨╡╨┤╤И╨╕╨╡ ╨▓ ╨╛╤Б╨╜╨╛╨▓╨╜╨╛╨╡ ╤Б╨╛╨▒╤А╨░╨╜╨╕╨╡.txt\n",
            "        File name too long\n",
            "error:  cannot create ./dataset/prose/Gogol/╨Я╨╛╨▓╨╡╤Б╤В╤М ╨╛ ╤В╨╛╨╝, ╨║╨░╨║ ╨┐╨╛╤Б╤Б╨╛╤А╨╕╨╗╤Б╤П ╨Ш╨▓╨░╨╜ ╨Ш╨▓╨░╨╜╨╛╨▓╨╕╤З ╤Б ╨Ш╨▓╨░╨╜╨╛╨╝ ╨Э╨╕╨║╨╕╤Д╨╛╤А╨╛╨▓╨╕╤З╨╡╨╝.txt\n",
            "        File name too long\n",
            "error:  cannot create ./dataset/publicism/Tolstoy/╨Ф╨╛╨║╨╗╨░╨┤, ╨┐╤А╨╕╨│╨╛╤В╨╛╨▓╨╗╨╡╨╜╨╜╤Л╨╣ ╨┤╨╗╤П ╨║╨╛╨╜╨│╤А╨╡╤Б╤Б╨░ ╨╛ ╨╝╨╕╤А╨╡ ╨▓ ╨б╤В╨╛╨║╨│╨╛╨╗╤М╨╝╨╡.txt\n",
            "        File name too long\n",
            "error:  cannot create ./dataset/publicism/Tolstoy/╨Я╨╛╤З╨╡╨╝╤Г ╤Е╤А╨╕╤Б╤В╨╕╨░╨╜╤Б╨║╨╕╨╡ ╨╜╨░╤А╨╛╨┤╤Л ╨▓╨╛╨╛╨▒╤Й╨╡ ╨╕ ╨▓ ╨╛╤Б╨╛╨▒╨╡╨╜╨╜╨╛╤Б╤В╨╕ ╤А╤Г╤Б╤Б╨║╨╕╨╣ ╨╜╨░╤Е╨╛╨┤╤П╤В╤Б╤П ╤В╨╡╨┐╨╡╤А╤М ╨▓ ╨▒╨╡╨┤╤Б╤В╨▓╨╡╨╜╨╜╨╛╨╝ ╨┐╨╛╨╗╨╛╨╢╨╡╨╜╨╕╨╕.txt\n",
            "        File name too long\n"
          ]
        }
      ]
    },
    {
      "cell_type": "code",
      "source": [
        "# Возьмем 5 писателей с наибольшим количеством данных\n",
        "CLASS_LIST = [\"Dostoevsky\", \"Tolstoy\", \"Gorky\", \"Bryusov\", \"Turgenev\"]"
      ],
      "metadata": {
        "id": "afD2L1O7-f6S"
      },
      "execution_count": null,
      "outputs": []
    },
    {
      "cell_type": "code",
      "source": [
        "import glob\n",
        "\n",
        "\n",
        "all_texts = {}\n",
        "\n",
        "for author in CLASS_LIST:\n",
        "    all_texts[author] = ''\n",
        "    prose_paths = glob.glob('./dataset/prose/{}/*.txt'.format(author))\n",
        "    poems_paths = glob.glob('./dataset/poems/{}/*.txt'.format(author))\n",
        "    paths = prose_paths + poems_paths\n",
        "    for path in paths:\n",
        "        with open(f'{path}', 'r', errors='ignore') as f:\n",
        "            text = f.read()\n",
        "        all_texts[author] += ' ' + text.replace('\\n', ' ')\n"
      ],
      "metadata": {
        "id": "1du_DZkp-f3c"
      },
      "execution_count": null,
      "outputs": []
    },
    {
      "cell_type": "code",
      "source": [
        "lengths = [len(all_texts[author]) for author in all_texts]\n",
        "print(lengths)"
      ],
      "metadata": {
        "colab": {
          "base_uri": "https://localhost:8080/"
        },
        "id": "lTy7NTjzLgL3",
        "outputId": "8530b83b-5bf7-4a6c-add9-8fed6330e656"
      },
      "execution_count": null,
      "outputs": [
        {
          "output_type": "stream",
          "name": "stdout",
          "text": [
            "[11221679, 9392435, 4324025, 2830897, 2345243]\n"
          ]
        }
      ]
    },
    {
      "cell_type": "code",
      "source": [
        "# обрежем тексты по среднему значению длины текстов для большей сбалансированности\n",
        "# датасета и отсутствию множественного дублирования текстов с малым количеством\n",
        "# примеров после балансировки RandomOverSampler\n",
        "for author in all_texts:\n",
        "    all_texts[author] = all_texts[author][:lengths[2]]"
      ],
      "metadata": {
        "id": "Q4pR-iZVRyEa"
      },
      "execution_count": null,
      "outputs": []
    },
    {
      "cell_type": "markdown",
      "source": [
        "#### Разобьем тексты на отрывки и создадим DataFrame"
      ],
      "metadata": {
        "id": "kNKk0T5crZAP"
      }
    },
    {
      "cell_type": "code",
      "source": [
        "NUM_WORDS = 40\n",
        "\n",
        "\n",
        "text = []\n",
        "author = []\n",
        "\n",
        "\n",
        "for key in all_texts:\n",
        "    temp_list = []\n",
        "    for word in all_texts[key].split():\n",
        "        temp_list.append(word)\n",
        "        if len(temp_list) == NUM_WORDS:\n",
        "            text.append(' '.join(temp_list))\n",
        "            author.append(key)\n",
        "            temp_list = []\n",
        "\n",
        "df = pd.DataFrame()\n",
        "df['author'] = author\n",
        "df['text'] = text\n"
      ],
      "metadata": {
        "id": "zqre9Wfx-fxo"
      },
      "execution_count": null,
      "outputs": []
    },
    {
      "cell_type": "code",
      "source": [
        "df"
      ],
      "metadata": {
        "id": "JJIAqx_d-fq9",
        "colab": {
          "base_uri": "https://localhost:8080/",
          "height": 424
        },
        "outputId": "426e7665-9d3e-4ed0-8c0f-6de2043bb22f"
      },
      "execution_count": null,
      "outputs": [
        {
          "output_type": "execute_result",
          "data": {
            "text/plain": [
              "           author                                               text\n",
              "0      Dostoevsky  Федор Михайлович Достоевский Чужая жена и муж ...\n",
              "1      Dostoevsky  вечера, среди улицы. А уж известно, что если о...\n",
              "2      Dostoevsky  – говорил господин в енотах, – но я… я, право,...\n",
              "3      Dostoevsky  лицо было довольно бледненько, голос его дрожа...\n",
              "4      Dostoevsky  обратиться к кому-нибудь с просьбой. Да и, нак...\n",
              "...           ...                                                ...\n",
              "72049    Turgenev  одиночество бессемейного бобыля, доживаю я ску...\n",
              "72050    Turgenev  та рука, которую мне только раз пришлось прижа...\n",
              "72051    Turgenev  и стремлений? Так легкое испарение ничтожной т...\n",
              "72052    Turgenev  музеев Дрездена, где хранится ценная коллекция...\n",
              "72053    Turgenev  на латинском языке. 7 Филистер – самодовольный...\n",
              "\n",
              "[72054 rows x 2 columns]"
            ],
            "text/html": [
              "\n",
              "  <div id=\"df-69657370-6a98-47e0-aa0b-b9bc9029f467\" class=\"colab-df-container\">\n",
              "    <div>\n",
              "<style scoped>\n",
              "    .dataframe tbody tr th:only-of-type {\n",
              "        vertical-align: middle;\n",
              "    }\n",
              "\n",
              "    .dataframe tbody tr th {\n",
              "        vertical-align: top;\n",
              "    }\n",
              "\n",
              "    .dataframe thead th {\n",
              "        text-align: right;\n",
              "    }\n",
              "</style>\n",
              "<table border=\"1\" class=\"dataframe\">\n",
              "  <thead>\n",
              "    <tr style=\"text-align: right;\">\n",
              "      <th></th>\n",
              "      <th>author</th>\n",
              "      <th>text</th>\n",
              "    </tr>\n",
              "  </thead>\n",
              "  <tbody>\n",
              "    <tr>\n",
              "      <th>0</th>\n",
              "      <td>Dostoevsky</td>\n",
              "      <td>Федор Михайлович Достоевский Чужая жена и муж ...</td>\n",
              "    </tr>\n",
              "    <tr>\n",
              "      <th>1</th>\n",
              "      <td>Dostoevsky</td>\n",
              "      <td>вечера, среди улицы. А уж известно, что если о...</td>\n",
              "    </tr>\n",
              "    <tr>\n",
              "      <th>2</th>\n",
              "      <td>Dostoevsky</td>\n",
              "      <td>– говорил господин в енотах, – но я… я, право,...</td>\n",
              "    </tr>\n",
              "    <tr>\n",
              "      <th>3</th>\n",
              "      <td>Dostoevsky</td>\n",
              "      <td>лицо было довольно бледненько, голос его дрожа...</td>\n",
              "    </tr>\n",
              "    <tr>\n",
              "      <th>4</th>\n",
              "      <td>Dostoevsky</td>\n",
              "      <td>обратиться к кому-нибудь с просьбой. Да и, нак...</td>\n",
              "    </tr>\n",
              "    <tr>\n",
              "      <th>...</th>\n",
              "      <td>...</td>\n",
              "      <td>...</td>\n",
              "    </tr>\n",
              "    <tr>\n",
              "      <th>72049</th>\n",
              "      <td>Turgenev</td>\n",
              "      <td>одиночество бессемейного бобыля, доживаю я ску...</td>\n",
              "    </tr>\n",
              "    <tr>\n",
              "      <th>72050</th>\n",
              "      <td>Turgenev</td>\n",
              "      <td>та рука, которую мне только раз пришлось прижа...</td>\n",
              "    </tr>\n",
              "    <tr>\n",
              "      <th>72051</th>\n",
              "      <td>Turgenev</td>\n",
              "      <td>и стремлений? Так легкое испарение ничтожной т...</td>\n",
              "    </tr>\n",
              "    <tr>\n",
              "      <th>72052</th>\n",
              "      <td>Turgenev</td>\n",
              "      <td>музеев Дрездена, где хранится ценная коллекция...</td>\n",
              "    </tr>\n",
              "    <tr>\n",
              "      <th>72053</th>\n",
              "      <td>Turgenev</td>\n",
              "      <td>на латинском языке. 7 Филистер – самодовольный...</td>\n",
              "    </tr>\n",
              "  </tbody>\n",
              "</table>\n",
              "<p>72054 rows × 2 columns</p>\n",
              "</div>\n",
              "    <div class=\"colab-df-buttons\">\n",
              "\n",
              "  <div class=\"colab-df-container\">\n",
              "    <button class=\"colab-df-convert\" onclick=\"convertToInteractive('df-69657370-6a98-47e0-aa0b-b9bc9029f467')\"\n",
              "            title=\"Convert this dataframe to an interactive table.\"\n",
              "            style=\"display:none;\">\n",
              "\n",
              "  <svg xmlns=\"http://www.w3.org/2000/svg\" height=\"24px\" viewBox=\"0 -960 960 960\">\n",
              "    <path d=\"M120-120v-720h720v720H120Zm60-500h600v-160H180v160Zm220 220h160v-160H400v160Zm0 220h160v-160H400v160ZM180-400h160v-160H180v160Zm440 0h160v-160H620v160ZM180-180h160v-160H180v160Zm440 0h160v-160H620v160Z\"/>\n",
              "  </svg>\n",
              "    </button>\n",
              "\n",
              "  <style>\n",
              "    .colab-df-container {\n",
              "      display:flex;\n",
              "      gap: 12px;\n",
              "    }\n",
              "\n",
              "    .colab-df-convert {\n",
              "      background-color: #E8F0FE;\n",
              "      border: none;\n",
              "      border-radius: 50%;\n",
              "      cursor: pointer;\n",
              "      display: none;\n",
              "      fill: #1967D2;\n",
              "      height: 32px;\n",
              "      padding: 0 0 0 0;\n",
              "      width: 32px;\n",
              "    }\n",
              "\n",
              "    .colab-df-convert:hover {\n",
              "      background-color: #E2EBFA;\n",
              "      box-shadow: 0px 1px 2px rgba(60, 64, 67, 0.3), 0px 1px 3px 1px rgba(60, 64, 67, 0.15);\n",
              "      fill: #174EA6;\n",
              "    }\n",
              "\n",
              "    .colab-df-buttons div {\n",
              "      margin-bottom: 4px;\n",
              "    }\n",
              "\n",
              "    [theme=dark] .colab-df-convert {\n",
              "      background-color: #3B4455;\n",
              "      fill: #D2E3FC;\n",
              "    }\n",
              "\n",
              "    [theme=dark] .colab-df-convert:hover {\n",
              "      background-color: #434B5C;\n",
              "      box-shadow: 0px 1px 3px 1px rgba(0, 0, 0, 0.15);\n",
              "      filter: drop-shadow(0px 1px 2px rgba(0, 0, 0, 0.3));\n",
              "      fill: #FFFFFF;\n",
              "    }\n",
              "  </style>\n",
              "\n",
              "    <script>\n",
              "      const buttonEl =\n",
              "        document.querySelector('#df-69657370-6a98-47e0-aa0b-b9bc9029f467 button.colab-df-convert');\n",
              "      buttonEl.style.display =\n",
              "        google.colab.kernel.accessAllowed ? 'block' : 'none';\n",
              "\n",
              "      async function convertToInteractive(key) {\n",
              "        const element = document.querySelector('#df-69657370-6a98-47e0-aa0b-b9bc9029f467');\n",
              "        const dataTable =\n",
              "          await google.colab.kernel.invokeFunction('convertToInteractive',\n",
              "                                                    [key], {});\n",
              "        if (!dataTable) return;\n",
              "\n",
              "        const docLinkHtml = 'Like what you see? Visit the ' +\n",
              "          '<a target=\"_blank\" href=https://colab.research.google.com/notebooks/data_table.ipynb>data table notebook</a>'\n",
              "          + ' to learn more about interactive tables.';\n",
              "        element.innerHTML = '';\n",
              "        dataTable['output_type'] = 'display_data';\n",
              "        await google.colab.output.renderOutput(dataTable, element);\n",
              "        const docLink = document.createElement('div');\n",
              "        docLink.innerHTML = docLinkHtml;\n",
              "        element.appendChild(docLink);\n",
              "      }\n",
              "    </script>\n",
              "  </div>\n",
              "\n",
              "\n",
              "<div id=\"df-7b6de95d-3e3f-4c1d-b32b-9ee23674f33e\">\n",
              "  <button class=\"colab-df-quickchart\" onclick=\"quickchart('df-7b6de95d-3e3f-4c1d-b32b-9ee23674f33e')\"\n",
              "            title=\"Suggest charts\"\n",
              "            style=\"display:none;\">\n",
              "\n",
              "<svg xmlns=\"http://www.w3.org/2000/svg\" height=\"24px\"viewBox=\"0 0 24 24\"\n",
              "     width=\"24px\">\n",
              "    <g>\n",
              "        <path d=\"M19 3H5c-1.1 0-2 .9-2 2v14c0 1.1.9 2 2 2h14c1.1 0 2-.9 2-2V5c0-1.1-.9-2-2-2zM9 17H7v-7h2v7zm4 0h-2V7h2v10zm4 0h-2v-4h2v4z\"/>\n",
              "    </g>\n",
              "</svg>\n",
              "  </button>\n",
              "\n",
              "<style>\n",
              "  .colab-df-quickchart {\n",
              "      --bg-color: #E8F0FE;\n",
              "      --fill-color: #1967D2;\n",
              "      --hover-bg-color: #E2EBFA;\n",
              "      --hover-fill-color: #174EA6;\n",
              "      --disabled-fill-color: #AAA;\n",
              "      --disabled-bg-color: #DDD;\n",
              "  }\n",
              "\n",
              "  [theme=dark] .colab-df-quickchart {\n",
              "      --bg-color: #3B4455;\n",
              "      --fill-color: #D2E3FC;\n",
              "      --hover-bg-color: #434B5C;\n",
              "      --hover-fill-color: #FFFFFF;\n",
              "      --disabled-bg-color: #3B4455;\n",
              "      --disabled-fill-color: #666;\n",
              "  }\n",
              "\n",
              "  .colab-df-quickchart {\n",
              "    background-color: var(--bg-color);\n",
              "    border: none;\n",
              "    border-radius: 50%;\n",
              "    cursor: pointer;\n",
              "    display: none;\n",
              "    fill: var(--fill-color);\n",
              "    height: 32px;\n",
              "    padding: 0;\n",
              "    width: 32px;\n",
              "  }\n",
              "\n",
              "  .colab-df-quickchart:hover {\n",
              "    background-color: var(--hover-bg-color);\n",
              "    box-shadow: 0 1px 2px rgba(60, 64, 67, 0.3), 0 1px 3px 1px rgba(60, 64, 67, 0.15);\n",
              "    fill: var(--button-hover-fill-color);\n",
              "  }\n",
              "\n",
              "  .colab-df-quickchart-complete:disabled,\n",
              "  .colab-df-quickchart-complete:disabled:hover {\n",
              "    background-color: var(--disabled-bg-color);\n",
              "    fill: var(--disabled-fill-color);\n",
              "    box-shadow: none;\n",
              "  }\n",
              "\n",
              "  .colab-df-spinner {\n",
              "    border: 2px solid var(--fill-color);\n",
              "    border-color: transparent;\n",
              "    border-bottom-color: var(--fill-color);\n",
              "    animation:\n",
              "      spin 1s steps(1) infinite;\n",
              "  }\n",
              "\n",
              "  @keyframes spin {\n",
              "    0% {\n",
              "      border-color: transparent;\n",
              "      border-bottom-color: var(--fill-color);\n",
              "      border-left-color: var(--fill-color);\n",
              "    }\n",
              "    20% {\n",
              "      border-color: transparent;\n",
              "      border-left-color: var(--fill-color);\n",
              "      border-top-color: var(--fill-color);\n",
              "    }\n",
              "    30% {\n",
              "      border-color: transparent;\n",
              "      border-left-color: var(--fill-color);\n",
              "      border-top-color: var(--fill-color);\n",
              "      border-right-color: var(--fill-color);\n",
              "    }\n",
              "    40% {\n",
              "      border-color: transparent;\n",
              "      border-right-color: var(--fill-color);\n",
              "      border-top-color: var(--fill-color);\n",
              "    }\n",
              "    60% {\n",
              "      border-color: transparent;\n",
              "      border-right-color: var(--fill-color);\n",
              "    }\n",
              "    80% {\n",
              "      border-color: transparent;\n",
              "      border-right-color: var(--fill-color);\n",
              "      border-bottom-color: var(--fill-color);\n",
              "    }\n",
              "    90% {\n",
              "      border-color: transparent;\n",
              "      border-bottom-color: var(--fill-color);\n",
              "    }\n",
              "  }\n",
              "</style>\n",
              "\n",
              "  <script>\n",
              "    async function quickchart(key) {\n",
              "      const quickchartButtonEl =\n",
              "        document.querySelector('#' + key + ' button');\n",
              "      quickchartButtonEl.disabled = true;  // To prevent multiple clicks.\n",
              "      quickchartButtonEl.classList.add('colab-df-spinner');\n",
              "      try {\n",
              "        const charts = await google.colab.kernel.invokeFunction(\n",
              "            'suggestCharts', [key], {});\n",
              "      } catch (error) {\n",
              "        console.error('Error during call to suggestCharts:', error);\n",
              "      }\n",
              "      quickchartButtonEl.classList.remove('colab-df-spinner');\n",
              "      quickchartButtonEl.classList.add('colab-df-quickchart-complete');\n",
              "    }\n",
              "    (() => {\n",
              "      let quickchartButtonEl =\n",
              "        document.querySelector('#df-7b6de95d-3e3f-4c1d-b32b-9ee23674f33e button');\n",
              "      quickchartButtonEl.style.display =\n",
              "        google.colab.kernel.accessAllowed ? 'block' : 'none';\n",
              "    })();\n",
              "  </script>\n",
              "</div>\n",
              "    </div>\n",
              "  </div>\n"
            ],
            "application/vnd.google.colaboratory.intrinsic+json": {
              "type": "dataframe",
              "variable_name": "df",
              "summary": "{\n  \"name\": \"df\",\n  \"rows\": 72054,\n  \"fields\": [\n    {\n      \"column\": \"author\",\n      \"properties\": {\n        \"dtype\": \"category\",\n        \"num_unique_values\": 5,\n        \"samples\": [\n          \"Tolstoy\",\n          \"Turgenev\",\n          \"Gorky\"\n        ],\n        \"semantic_type\": \"\",\n        \"description\": \"\"\n      }\n    },\n    {\n      \"column\": \"text\",\n      \"properties\": {\n        \"dtype\": \"string\",\n        \"num_unique_values\": 72044,\n        \"samples\": [\n          \"\\u0441\\u0438\\u043b \\u043f\\u043e\\u0441\\u0442\\u0430\\u0440\\u0430\\u043b\\u0441\\u044f \\u0443\\u0439\\u0442\\u0438 \\u043f\\u043e\\u0442\\u0438\\u0445\\u043e\\u043d\\u044c\\u043a\\u0443, \\u043d\\u0435 \\u043f\\u0440\\u043e\\u0441\\u0442\\u0438\\u0432\\u0448\\u0438\\u0441\\u044c \\u0438 \\u043d\\u0435 \\u0441\\u043a\\u0430\\u0437\\u0430\\u0432\\u0448\\u0438\\u0441\\u044c; \\u0442\\u0430\\u043a \\u0441\\u043a\\u0430\\u0437\\u0430\\u0442\\u044c, \\u0443\\u0441\\u043a\\u043e\\u043b\\u044c\\u0437\\u043d\\u0443\\u043b. \\u0414\\u043b\\u044f \\u0447\\u0435\\u0433\\u043e \\u0442\\u0430\\u043a \\u0441\\u0434\\u0435\\u043b\\u0430\\u043b - \\u043d\\u0435 \\u0437\\u043d\\u0430\\u044e, \\u043d\\u043e \\u0435\\u0441\\u043b\\u0438 \\u0431 \\u0434\\u0430\\u0436\\u0435 \\u043c\\u0430\\u043c\\u0430 \\u043f\\u043e\\u0434\\u0433\\u043b\\u044f\\u0434\\u0435\\u043b\\u0430, \\u0447\\u0442\\u043e \\u044f \\u0432\\u044b\\u0445\\u043e\\u0436\\u0443, \\u0438 \\u0437\\u0430\\u0433\\u043e\\u0432\\u043e\\u0440\\u0438\\u043b\\u0430 \\u0441\\u043e \\u043c\\u043d\\u043e\\u0439, \\u0442\\u043e \\u044f \\u0431\\u044b \\u043e\\u0442\\u0432\\u0435\\u0442\\u0438\\u043b \\u0435\\u0439 \\u043a\\u0430\\u043a\\u043e\\u0439-\\u043d\\u0438\\u0431\\u0443\\u0434\\u044c \\u0437\\u043b\\u043e\\u0441\\u0442\\u044c\\u044e. \\u041a\\u043e\\u0433\\u0434\\u0430\",\n          \"\\u041d\\u0438\\u043a\\u0442\\u043e \\u043d\\u0435 \\u043c\\u043e\\u0433 \\u0432\\u044b\\u0434\\u0440\\u0430\\u0442\\u044c \\u0438\\u0445, \\u0430 \\u043e\\u043d\\u0430 \\u2014 \\u0432\\u0441\\u0435 \\u043c\\u043e\\u0436\\u0435\\u0442. \\u041e\\u043d\\u0430 \\u2014 \\u0431\\u0435\\u0441\\u0441\\u0442\\u0440\\u0430\\u0448\\u043d\\u043e\\u0439 \\u0436\\u0438\\u0437\\u043d\\u0438 \\u0438 \\u0432\\u0441\\u0435\\u043c \\u0442\\u0430\\u0439\\u043d\\u043e\\u0441\\u0442\\u044f\\u043c \\u0432\\u043b\\u0430\\u0434\\u044b\\u043a\\u0430. \\u0412\\u0437\\u0433\\u043b\\u044f\\u043d\\u0435\\u0442 \\u043d\\u0430 \\u0442\\u0435\\u0431\\u044f \\u0434\\u0430 \\u043a\\u0430\\u043a \\u0441\\u043f\\u0440\\u043e\\u0441\\u0438\\u0442, \\u0432\\u043d\\u0435\\u0437\\u0430\\u043f\\u0443: \\u00ab\\u0422\\u044b \\u0447\\u0435\\u0433\\u043e \\u0434\\u0443\\u043c\\u0430\\u0435\\u0448\\u044c?\\u00bb \\u0414\\u0430\\u043a \\u0442\\u044b \\u0435\\u0439 \\u0442\\u0443\\u0442, \\u0432 \\u0434\\u0443\\u0448\\u0443 \\u0442\\u0432\\u043e\\u044e, \\u043a\\u0430\\u043a \\u0434\\u0432\\u0435\\u0440\\u044c \\u043e\\u0442\\u0432\\u043e\\u0440\\u0438\\u0448\\u044c: \\u043d\\u0430, \\u0433\\u043b\\u044f\\u0434\\u0438!\",\n          \"\\u043f\\u043e\\u043c\\u043e\\u0449\\u044c\\u044e \\u0441\\u0438\\u043b \\u0442\\u044c\\u043c\\u044b, \\u0443\\u0436\\u0435 \\u0442\\u043e\\u0440\\u0436\\u0435\\u0441\\u0442\\u0432\\u043e\\u0432\\u0430\\u043b\\u0438 \\u043d\\u0430\\u0434 \\u0432\\u043e\\u0438\\u043d\\u0430\\u043c\\u0438 \\u0420\\u0438\\u043c\\u0441\\u043a\\u0438\\u043c\\u0438. \\u041c\\u044b \\u0432\\u043e\\u0441\\u0442\\u043e\\u0440\\u0436\\u0435\\u0441\\u0442\\u0432\\u0443\\u0435\\u043c \\u0435\\u0449\\u0435 \\u043d\\u0435 \\u0440\\u0430\\u0437. \\u041d\\u0430\\u043c \\u0420\\u043e\\u043a\\u043e\\u043c \\u0441\\u0443\\u0436\\u0434\\u0435\\u043d\\u0430 \\u043f\\u043e\\u0431\\u0435\\u0434\\u0430. \\u0417\\u0430 \\u043c\\u0435\\u043d\\u044f \\u0432\\u0441\\u044f \\u0420\\u0435\\u0446\\u0438\\u044f, \\u0438 \\u0441\\u0442\\u043e\\u0438\\u0442 \\u043c\\u043d\\u0435 \\u0441\\u043a\\u0430\\u0437\\u0430\\u0442\\u044c \\u0441\\u043b\\u043e\\u0432\\u043e, \\u043a\\u0430\\u043a \\u0434\\u0435\\u0441\\u044f\\u0442\\u044c \\u0442\\u044b\\u0441\\u044f\\u0447 \\u0447\\u0435\\u043b\\u043e\\u0432\\u0435\\u043a \\u043f\\u0440\\u0438\\u0434\\u0443\\u0442 \\u0441\\u044e\\u0434\\u0430, \\u0447\\u0442\\u043e\\u0431\\u044b \\u0441\\u0440\\u0430\\u0436\\u0430\\u0442\\u044c\\u0441\\u044f \\u0437\\u0430 \\u0441\\u0432\\u043e\\u0435\\u0433\\u043e \\u0413\\u043e\\u0441\\u043f\\u043e\\u0434\\u0438\\u043d\\u0430. \\u0421\\u0438\\u043b\\u044b \\u0432\\u0440\\u0430\\u0433\\u043e\\u0432 \\u043c\\u043d\\u0435\"\n        ],\n        \"semantic_type\": \"\",\n        \"description\": \"\"\n      }\n    }\n  ]\n}"
            }
          },
          "metadata": {},
          "execution_count": 13
        }
      ]
    },
    {
      "cell_type": "markdown",
      "source": [
        "#### Очистка текстов"
      ],
      "metadata": {
        "id": "VT3tGL7frOth"
      }
    },
    {
      "cell_type": "code",
      "source": [
        "\n",
        "def strip_all_entities(text):\n",
        "    text = text.replace('\\r', '').replace('\\n', ' ').replace('\\n', ' ').lower()\n",
        "    banned_list= string.punctuation + 'Ã' + '±' + 'ã' + '¼' + 'â' + '«' + '»' + '§' + '–'\n",
        "    table = str.maketrans('', '', banned_list)\n",
        "    text = text.translate(table)\n",
        "    return text\n",
        "\n",
        "\n",
        "def filter_chars(a):\n",
        "    sent = []\n",
        "    for word in a.split(' '):\n",
        "        if ('$' in word) | ('&' in word):\n",
        "            sent.append('')\n",
        "        else:\n",
        "            sent.append(word)\n",
        "    return ' '.join(sent)\n",
        "\n",
        "def remove_mult_spaces(text):\n",
        "    return re.sub(\"\\s\\s+\" , \" \", text)\n"
      ],
      "metadata": {
        "id": "Og5WfuMQ-fnr"
      },
      "execution_count": null,
      "outputs": []
    },
    {
      "cell_type": "code",
      "source": [
        "texts_new = []\n",
        "for t in df.text:\n",
        "    texts_new.append(remove_mult_spaces(filter_chars(strip_all_entities(t))))\n",
        "df['text_clean'] = texts_new"
      ],
      "metadata": {
        "id": "Fpxl6gx0-fkJ"
      },
      "execution_count": null,
      "outputs": []
    },
    {
      "cell_type": "markdown",
      "source": [
        "### Токенизация"
      ],
      "metadata": {
        "id": "F_nDT1VS2LgB"
      }
    },
    {
      "cell_type": "code",
      "source": [
        "TOKENIZER = BertTokenizerFast.from_pretrained(TF_BERT_MODEL_NAME)"
      ],
      "metadata": {
        "id": "IABjKQoQ0RRu",
        "colab": {
          "base_uri": "https://localhost:8080/",
          "height": 145,
          "referenced_widgets": [
            "59ea524c062149d5bb5f3f7c7e2dd42d",
            "50b635eafcdd4d9184ebb26715d71afd",
            "b36075dd02b544488a5b85e9314983cf",
            "8bde892345b745f88aaaf4a2f14663d1",
            "6c79128baab346139cdb489b6684f906",
            "d7d62601e2314574922cd0b985210503",
            "24312b0be12045febb201bb3a1077f58",
            "4c913202ce254735bdc0a57079c20032",
            "2944cdfb58e143e5a0df2c2859a2d864",
            "22d0336f99c14ca2af34120132ad3ac0",
            "9a832aff9b2b4f08840aeef93e9ce98c",
            "58dfbb6f97ef4caf8fb48e298e4e01b6",
            "5e76c3b4eb1e438fab1e4f60cf5045d2",
            "8735e1bd904145b4bda7670a6d53b744",
            "5670febd2b38473ead1dd998d5d16139",
            "7e712b9b39a74150b48f3c15cf7f90ff",
            "d66ea81dbf1343568e3b20f5c34bc962",
            "5726075d578a40e2be5dbe5311d874c5",
            "19daf9e47f924d2998813e04967f704d",
            "0e1724222dc94738aecc31482ffebcd5",
            "71d6e2f7cfee48a3bf1d3e5548a1150c",
            "e3fcd20033a14316bbd0ff131346fc29",
            "852386249814488faff497b76d1d94bc",
            "49bf26f140ca44758861d1438d1a179e",
            "ada861d5c8424398ba145cd06f9e7875",
            "e875203bcfb94dd6a931c18fa2b2353f",
            "0cb31ff69acf4eb48ecc7cec74c8aee4",
            "0aff4eb6fd26492e986f77266fcdf10b",
            "cb99e74f25bd4d1dbe3143744c4f6cd6",
            "ddc7d1b8ed6d48ba8ccb179e69d3450a",
            "672a7c80405b422a84792feabb3be889",
            "13f606dadeb640ada669d66ebe088d5d",
            "275b7e4dd1f849c4998dfdd457131e40",
            "bbc9eeb62a6c44b0af7a3359ca01a324",
            "81ac98924e3043af96a1e1293044be57",
            "3ec62a312fc94dc3a48071b51fe849ad",
            "86d2d5701c4042a08513753c01f7f961",
            "06d4c714d3be4c30a95b2d0c828e7321",
            "d02716ae9cc545608e9f39a67fd36c17",
            "733fd129fe0e413cbace735653826c96",
            "39bf862558c7434fba76b26b834b79f8",
            "42d1edcaf86c440db0e5617ea4f5a1fd",
            "80f186c747174fa7a4f55d9b3346e6c3",
            "a92867398d19463fa2facef46436cf75"
          ]
        },
        "outputId": "e9ce729a-bd82-4a82-f7d3-d41dc90e351d"
      },
      "execution_count": null,
      "outputs": [
        {
          "output_type": "display_data",
          "data": {
            "text/plain": [
              "tokenizer_config.json:   0%|          | 0.00/401 [00:00<?, ?B/s]"
            ],
            "application/vnd.jupyter.widget-view+json": {
              "version_major": 2,
              "version_minor": 0,
              "model_id": "59ea524c062149d5bb5f3f7c7e2dd42d"
            }
          },
          "metadata": {}
        },
        {
          "output_type": "display_data",
          "data": {
            "text/plain": [
              "vocab.txt:   0%|          | 0.00/1.08M [00:00<?, ?B/s]"
            ],
            "application/vnd.jupyter.widget-view+json": {
              "version_major": 2,
              "version_minor": 0,
              "model_id": "58dfbb6f97ef4caf8fb48e298e4e01b6"
            }
          },
          "metadata": {}
        },
        {
          "output_type": "display_data",
          "data": {
            "text/plain": [
              "tokenizer.json:   0%|          | 0.00/1.74M [00:00<?, ?B/s]"
            ],
            "application/vnd.jupyter.widget-view+json": {
              "version_major": 2,
              "version_minor": 0,
              "model_id": "852386249814488faff497b76d1d94bc"
            }
          },
          "metadata": {}
        },
        {
          "output_type": "display_data",
          "data": {
            "text/plain": [
              "special_tokens_map.json:   0%|          | 0.00/112 [00:00<?, ?B/s]"
            ],
            "application/vnd.jupyter.widget-view+json": {
              "version_major": 2,
              "version_minor": 0,
              "model_id": "bbc9eeb62a6c44b0af7a3359ca01a324"
            }
          },
          "metadata": {}
        }
      ]
    },
    {
      "cell_type": "markdown",
      "source": [
        "#### Оценим максимальную и среднюю длины токенизированных последовательностей"
      ],
      "metadata": {
        "id": "YR2Urjj8r1De"
      }
    },
    {
      "cell_type": "code",
      "source": [
        "token_lens = []\n",
        "\n",
        "for txt in df['text_clean'].values:\n",
        "    tokens = TOKENIZER.encode(txt, max_length=5000, truncation=True)\n",
        "    token_lens.append(len(tokens))\n",
        "\n",
        "max_len = np.max(token_lens)\n",
        "mean_len = np.mean(token_lens)"
      ],
      "metadata": {
        "id": "c2xNAOG_0ROm"
      },
      "execution_count": null,
      "outputs": []
    },
    {
      "cell_type": "code",
      "source": [
        "print('Максимальная длина токенов:', max_len)\n",
        "print('Средняя длина токенов:', mean_len)"
      ],
      "metadata": {
        "id": "bi8iiHpe0RLe",
        "colab": {
          "base_uri": "https://localhost:8080/"
        },
        "outputId": "5d37d57f-c28c-4b4a-f135-6d721cecef1a"
      },
      "execution_count": null,
      "outputs": [
        {
          "output_type": "stream",
          "name": "stdout",
          "text": [
            "Максимальная длина токенов: 105\n",
            "Средняя длина токенов: 52.326394093318896\n"
          ]
        }
      ]
    },
    {
      "cell_type": "markdown",
      "source": [
        "### Соотношение классов"
      ],
      "metadata": {
        "id": "MxtsQ-mk32Yu"
      }
    },
    {
      "cell_type": "code",
      "source": [
        "df['author'].value_counts()"
      ],
      "metadata": {
        "id": "gFkBDTo431_d",
        "colab": {
          "base_uri": "https://localhost:8080/",
          "height": 272
        },
        "outputId": "5318d85d-13ab-4e82-8e49-ce25bd0dc155"
      },
      "execution_count": null,
      "outputs": [
        {
          "output_type": "execute_result",
          "data": {
            "text/plain": [
              "author\n",
              "Gorky         17500\n",
              "Dostoevsky    17135\n",
              "Tolstoy       17076\n",
              "Bryusov       10883\n",
              "Turgenev       9460\n",
              "Name: count, dtype: int64"
            ],
            "text/html": [
              "<div>\n",
              "<style scoped>\n",
              "    .dataframe tbody tr th:only-of-type {\n",
              "        vertical-align: middle;\n",
              "    }\n",
              "\n",
              "    .dataframe tbody tr th {\n",
              "        vertical-align: top;\n",
              "    }\n",
              "\n",
              "    .dataframe thead th {\n",
              "        text-align: right;\n",
              "    }\n",
              "</style>\n",
              "<table border=\"1\" class=\"dataframe\">\n",
              "  <thead>\n",
              "    <tr style=\"text-align: right;\">\n",
              "      <th></th>\n",
              "      <th>count</th>\n",
              "    </tr>\n",
              "    <tr>\n",
              "      <th>author</th>\n",
              "      <th></th>\n",
              "    </tr>\n",
              "  </thead>\n",
              "  <tbody>\n",
              "    <tr>\n",
              "      <th>Gorky</th>\n",
              "      <td>17500</td>\n",
              "    </tr>\n",
              "    <tr>\n",
              "      <th>Dostoevsky</th>\n",
              "      <td>17135</td>\n",
              "    </tr>\n",
              "    <tr>\n",
              "      <th>Tolstoy</th>\n",
              "      <td>17076</td>\n",
              "    </tr>\n",
              "    <tr>\n",
              "      <th>Bryusov</th>\n",
              "      <td>10883</td>\n",
              "    </tr>\n",
              "    <tr>\n",
              "      <th>Turgenev</th>\n",
              "      <td>9460</td>\n",
              "    </tr>\n",
              "  </tbody>\n",
              "</table>\n",
              "</div><br><label><b>dtype:</b> int64</label>"
            ]
          },
          "metadata": {},
          "execution_count": 19
        }
      ]
    },
    {
      "cell_type": "markdown",
      "source": [
        "#### Балансируем соотношение классов"
      ],
      "metadata": {
        "id": "XU9DlUZSr-6e"
      }
    },
    {
      "cell_type": "code",
      "source": [
        "ros = RandomOverSampler()\n",
        "\n",
        "train_x, train_y = ros.fit_resample(\n",
        "    np.array(df['text_clean']).reshape(-1, 1),\n",
        "    np.array(df['author']).reshape(-1, 1)\n",
        ")\n",
        "\n",
        "train_os = pd.DataFrame(\n",
        "    list(zip([x[0] for x in train_x], train_y)),\n",
        "    columns=['text_clean', 'author']\n",
        ")"
      ],
      "metadata": {
        "id": "JKjgSGeT0RCc"
      },
      "execution_count": null,
      "outputs": []
    },
    {
      "cell_type": "code",
      "source": [
        "train_os['author'].value_counts()"
      ],
      "metadata": {
        "id": "3884uhz50Q_N",
        "colab": {
          "base_uri": "https://localhost:8080/",
          "height": 272
        },
        "outputId": "c3249250-e0e4-4521-fa34-5a501295ccc9"
      },
      "execution_count": null,
      "outputs": [
        {
          "output_type": "execute_result",
          "data": {
            "text/plain": [
              "author\n",
              "Dostoevsky    17500\n",
              "Tolstoy       17500\n",
              "Gorky         17500\n",
              "Bryusov       17500\n",
              "Turgenev      17500\n",
              "Name: count, dtype: int64"
            ],
            "text/html": [
              "<div>\n",
              "<style scoped>\n",
              "    .dataframe tbody tr th:only-of-type {\n",
              "        vertical-align: middle;\n",
              "    }\n",
              "\n",
              "    .dataframe tbody tr th {\n",
              "        vertical-align: top;\n",
              "    }\n",
              "\n",
              "    .dataframe thead th {\n",
              "        text-align: right;\n",
              "    }\n",
              "</style>\n",
              "<table border=\"1\" class=\"dataframe\">\n",
              "  <thead>\n",
              "    <tr style=\"text-align: right;\">\n",
              "      <th></th>\n",
              "      <th>count</th>\n",
              "    </tr>\n",
              "    <tr>\n",
              "      <th>author</th>\n",
              "      <th></th>\n",
              "    </tr>\n",
              "  </thead>\n",
              "  <tbody>\n",
              "    <tr>\n",
              "      <th>Dostoevsky</th>\n",
              "      <td>17500</td>\n",
              "    </tr>\n",
              "    <tr>\n",
              "      <th>Tolstoy</th>\n",
              "      <td>17500</td>\n",
              "    </tr>\n",
              "    <tr>\n",
              "      <th>Gorky</th>\n",
              "      <td>17500</td>\n",
              "    </tr>\n",
              "    <tr>\n",
              "      <th>Bryusov</th>\n",
              "      <td>17500</td>\n",
              "    </tr>\n",
              "    <tr>\n",
              "      <th>Turgenev</th>\n",
              "      <td>17500</td>\n",
              "    </tr>\n",
              "  </tbody>\n",
              "</table>\n",
              "</div><br><label><b>dtype:</b> int64</label>"
            ]
          },
          "metadata": {},
          "execution_count": 21
        }
      ]
    },
    {
      "cell_type": "markdown",
      "source": [
        "### Формируем выборки"
      ],
      "metadata": {
        "id": "lcnUMIoE4pbT"
      }
    },
    {
      "cell_type": "code",
      "source": [
        "X = train_os['text_clean'].values\n",
        "y = train_os['author'].values"
      ],
      "metadata": {
        "id": "jVeAY0oU4pGa"
      },
      "execution_count": null,
      "outputs": []
    },
    {
      "cell_type": "markdown",
      "source": [
        "#### Разделим на тренировочную, проверочную и тестовую выборки"
      ],
      "metadata": {
        "id": "erfZc1YEtBHu"
      }
    },
    {
      "cell_type": "code",
      "source": [
        "X_train, X_temp, y_train, y_temp = train_test_split(\n",
        "    X, y, test_size=0.2, stratify=y, random_state=SEED\n",
        ")"
      ],
      "metadata": {
        "id": "TD53thEd4pDS"
      },
      "execution_count": null,
      "outputs": []
    },
    {
      "cell_type": "code",
      "source": [
        "X_val, X_test, y_val, y_test = train_test_split(\n",
        "    X_temp, y_temp, test_size=0.5, stratify=y_temp, random_state=SEED\n",
        ")"
      ],
      "metadata": {
        "id": "5Yf8wUJB4pAh"
      },
      "execution_count": null,
      "outputs": []
    },
    {
      "cell_type": "markdown",
      "source": [
        "#### Применим OneHotEncoder"
      ],
      "metadata": {
        "id": "lNnAERmYtJKV"
      }
    },
    {
      "cell_type": "code",
      "source": [
        "ohe = preprocessing.OneHotEncoder()\n",
        "\n",
        "y_train = ohe.fit_transform(np.array(y_train).reshape(-1, 1)).toarray()\n",
        "y_val = ohe.fit_transform(np.array(y_val).reshape(-1, 1)).toarray()\n",
        "y_test = ohe.fit_transform(np.array(y_test).reshape(-1, 1)).toarray()"
      ],
      "metadata": {
        "id": "YyCXbu-X4o6p"
      },
      "execution_count": null,
      "outputs": []
    },
    {
      "cell_type": "code",
      "source": [
        "print(f\"Тренировочная выборка: {X_train.shape[0]}\")\n",
        "print(f\"Проверочная выборка: {X_val.shape[0]}\")\n",
        "print(f\"Тестовая выборка: {X_test.shape[0]}\")"
      ],
      "metadata": {
        "id": "jc3qGsBI4o3s",
        "colab": {
          "base_uri": "https://localhost:8080/"
        },
        "outputId": "319003de-c71d-4c32-d677-ff90cebf5e71"
      },
      "execution_count": null,
      "outputs": [
        {
          "output_type": "stream",
          "name": "stdout",
          "text": [
            "Тренировочная выборка: 70000\n",
            "Проверочная выборка: 8750\n",
            "Тестовая выборка: 8750\n"
          ]
        }
      ]
    },
    {
      "cell_type": "markdown",
      "source": [
        "#### Токенизируем входные данные"
      ],
      "metadata": {
        "id": "qZNKtXSkuW_C"
      }
    },
    {
      "cell_type": "code",
      "source": [
        "def tokenize(data, tokenizer=TOKENIZER, max_len=128):\n",
        "    input_ids = []\n",
        "    attention_masks = []\n",
        "    for i in range(len(data)):\n",
        "        encoded = tokenizer.encode_plus(\n",
        "            data[i],\n",
        "            add_special_tokens=True,\n",
        "            max_length=max_len,\n",
        "            padding='max_length',\n",
        "            return_attention_mask=True\n",
        "        )\n",
        "        input_ids.append(encoded['input_ids'])\n",
        "        attention_masks.append(encoded['attention_mask'])\n",
        "    return np.array(input_ids), np.array(attention_masks)\n"
      ],
      "metadata": {
        "id": "EfYVyihT4o0i"
      },
      "execution_count": null,
      "outputs": []
    },
    {
      "cell_type": "code",
      "source": [
        "train_input_ids, train_attention_masks = tokenize(X_train)\n",
        "val_input_ids, val_attention_masks = tokenize(X_val)\n",
        "test_input_ids, test_attention_masks = tokenize(X_test)"
      ],
      "metadata": {
        "id": "xVv_DLS04oxe"
      },
      "execution_count": null,
      "outputs": []
    },
    {
      "cell_type": "markdown",
      "source": [
        "Удалим лишние сущности, чтоб не перегружать ОЗУ"
      ],
      "metadata": {
        "id": "20QpBs_4bjMJ"
      }
    },
    {
      "cell_type": "code",
      "source": [
        "list_for_del = [\n",
        "    X, y,\n",
        "    X_temp, y_temp,\n",
        "    X_train,\n",
        "    X_val,\n",
        "    X_test,\n",
        "    df, train_os,\n",
        "    all_texts,\n",
        "    text, texts_new,\n",
        "    author,\n",
        "]\n",
        "for obj in list_for_del:\n",
        "    del obj\n"
      ],
      "metadata": {
        "id": "gL7hm5DHbjuN"
      },
      "execution_count": null,
      "outputs": []
    },
    {
      "cell_type": "markdown",
      "source": [
        "### Модель"
      ],
      "metadata": {
        "id": "oBhf-yVD6IQB"
      }
    },
    {
      "cell_type": "code",
      "source": [
        "bert_model = TFBertModel.from_pretrained(TF_BERT_MODEL_NAME)"
      ],
      "metadata": {
        "id": "5xbI9SKr4oui",
        "colab": {
          "base_uri": "https://localhost:8080/",
          "height": 188,
          "referenced_widgets": [
            "d97724bb120944d8bc35435403defc45",
            "d7ed12512d1447a58ffaa22ae9d509d6",
            "9e7c1f9d884b4192ab239db5e572c86f",
            "0abaeb06e33e4df8ab0a693d65194c39",
            "fcc361538a5c419ea27b64a09f0df120",
            "2393907762484416be2feba698faaf9e",
            "754edcedb2fd4cbda5fddfe4c31ffe88",
            "8f79f1f06459427cb3958d6853fa00c0",
            "930d57ed89d54b51ac07d548a394186d",
            "473b3c7ebf174dcd8e975eab73ad619b",
            "ad42827003cd40dba73d62e56af76917",
            "8f2bdc3e73644725bc1abe7c32680866",
            "765b295b01c14c4884508e4d96fbb16e",
            "29b49e3671a647748092d7c4e5561ebf",
            "fd54564ab52b4b32b790eb95ef86748e",
            "011405eb6b5b4632aed402353a9b9b61",
            "3460fd3f9a13497180160360762c73c8",
            "b81c533033194fd385fad6d4a34739dd",
            "02cb21467cd24546ae0c4e412d560410",
            "2d432cbd6f63462cb0c89440c6040400",
            "a9b4d5ebc6864d92a6dc6ecd15ce46f2",
            "3b82888bbe5a4d2a9c93e27531e9b5f2"
          ]
        },
        "outputId": "8e88cafb-de67-4a16-aed6-1e6f8e93f02c"
      },
      "execution_count": null,
      "outputs": [
        {
          "output_type": "display_data",
          "data": {
            "text/plain": [
              "config.json:   0%|          | 0.00/693 [00:00<?, ?B/s]"
            ],
            "application/vnd.jupyter.widget-view+json": {
              "version_major": 2,
              "version_minor": 0,
              "model_id": "d97724bb120944d8bc35435403defc45"
            }
          },
          "metadata": {}
        },
        {
          "output_type": "display_data",
          "data": {
            "text/plain": [
              "model.safetensors:   0%|          | 0.00/118M [00:00<?, ?B/s]"
            ],
            "application/vnd.jupyter.widget-view+json": {
              "version_major": 2,
              "version_minor": 0,
              "model_id": "8f2bdc3e73644725bc1abe7c32680866"
            }
          },
          "metadata": {}
        },
        {
          "output_type": "stream",
          "name": "stderr",
          "text": [
            "Some weights of the PyTorch model were not used when initializing the TF 2.0 model TFBertModel: ['cls.seq_relationship.weight', 'cls.seq_relationship.bias', 'bert.embeddings.position_ids', 'cls.predictions.bias', 'cls.predictions.transform.dense.weight', 'cls.predictions.transform.dense.bias', 'cls.predictions.transform.LayerNorm.bias', 'cls.predictions.transform.LayerNorm.weight']\n",
            "- This IS expected if you are initializing TFBertModel from a PyTorch model trained on another task or with another architecture (e.g. initializing a TFBertForSequenceClassification model from a BertForPreTraining model).\n",
            "- This IS NOT expected if you are initializing TFBertModel from a PyTorch model that you expect to be exactly identical (e.g. initializing a TFBertForSequenceClassification model from a BertForSequenceClassification model).\n",
            "All the weights of TFBertModel were initialized from the PyTorch model.\n",
            "If your task is similar to the task the model of the checkpoint was trained on, you can already use TFBertModel for predictions without further training.\n"
          ]
        }
      ]
    },
    {
      "cell_type": "code",
      "source": [
        "def create_classification_bert_model(bert_model, max_len=128, classes_num=2):\n",
        "    # Параметры обучения\n",
        "    opt = tf.keras.optimizers.legacy.Adam(learning_rate=1e-5, decay=1e-7)\n",
        "    loss = tf.keras.losses.CategoricalCrossentropy()\n",
        "    accuracy = tf.keras.metrics.CategoricalAccuracy()\n",
        "\n",
        "    # вход для токенизированной последовательности\n",
        "    input_ids = tf.keras.Input(shape=(max_len,), dtype='int32')\n",
        "    # маска\n",
        "    attention_masks = tf.keras.Input(shape=(max_len,), dtype='int32')\n",
        "    # BERT-модель\n",
        "    embeddings = bert_model([input_ids, attention_masks])[1]\n",
        "\n",
        "    output = tf.keras.layers.Dense(\n",
        "        classes_num,\n",
        "        activation=\"softmax\"\n",
        "    )(embeddings)\n",
        "    model = tf.keras.models.Model(\n",
        "        inputs=[\n",
        "            input_ids,\n",
        "            attention_masks\n",
        "        ],\n",
        "        outputs = output\n",
        "    )\n",
        "    model.compile(opt, loss=loss, metrics=accuracy)\n",
        "\n",
        "    return model\n"
      ],
      "metadata": {
        "id": "qL80e2if0Q78"
      },
      "execution_count": null,
      "outputs": []
    },
    {
      "cell_type": "code",
      "source": [
        "model = create_classification_bert_model(\n",
        "    bert_model,\n",
        "    classes_num=len(CLASS_LIST),\n",
        ")\n",
        "model.summary()"
      ],
      "metadata": {
        "id": "UgxC97bu0Q5G",
        "colab": {
          "base_uri": "https://localhost:8080/"
        },
        "outputId": "ad85fef4-54aa-49af-a5c2-93d9910edc68"
      },
      "execution_count": null,
      "outputs": [
        {
          "output_type": "stream",
          "name": "stdout",
          "text": [
            "Model: \"model\"\n",
            "__________________________________________________________________________________________________\n",
            " Layer (type)                Output Shape                 Param #   Connected to                  \n",
            "==================================================================================================\n",
            " input_1 (InputLayer)        [(None, 128)]                0         []                            \n",
            "                                                                                                  \n",
            " input_2 (InputLayer)        [(None, 128)]                0         []                            \n",
            "                                                                                                  \n",
            " tf_bert_model (TFBertModel  TFBaseModelOutputWithPooli   2919376   ['input_1[0][0]',             \n",
            " )                           ngAndCrossAttentions(last_   8          'input_2[0][0]']             \n",
            "                             hidden_state=(None, 128, 3                                           \n",
            "                             12),                                                                 \n",
            "                              pooler_output=(None, 312)                                           \n",
            "                             , past_key_values=None, hi                                           \n",
            "                             dden_states=None, attentio                                           \n",
            "                             ns=None, cross_attentions=                                           \n",
            "                             None)                                                                \n",
            "                                                                                                  \n",
            " dense (Dense)               (None, 5)                    1565      ['tf_bert_model[0][1]']       \n",
            "                                                                                                  \n",
            "==================================================================================================\n",
            "Total params: 29195333 (111.37 MB)\n",
            "Trainable params: 29195333 (111.37 MB)\n",
            "Non-trainable params: 0 (0.00 Byte)\n",
            "__________________________________________________________________________________________________\n"
          ]
        }
      ]
    },
    {
      "cell_type": "markdown",
      "source": [
        "### Обучение модели"
      ],
      "metadata": {
        "id": "suxXiWhzWcTs"
      }
    },
    {
      "cell_type": "code",
      "source": [
        "EPOCHS = 10\n",
        "BATCH_SIZE = 64\n",
        "\n",
        "\n",
        "history = model.fit(\n",
        "    [\n",
        "        train_input_ids,\n",
        "        train_attention_masks\n",
        "    ],\n",
        "    y_train,\n",
        "    validation_data=(\n",
        "        [\n",
        "            val_input_ids,\n",
        "            val_attention_masks\n",
        "        ],\n",
        "        y_val\n",
        "    ),\n",
        "    epochs=EPOCHS,\n",
        "    batch_size=BATCH_SIZE\n",
        ")\n"
      ],
      "metadata": {
        "id": "TiNbTNOA6Lfn",
        "colab": {
          "base_uri": "https://localhost:8080/"
        },
        "outputId": "805cd85a-6675-4fb6-b5fc-588799ebf6c3"
      },
      "execution_count": null,
      "outputs": [
        {
          "output_type": "stream",
          "name": "stdout",
          "text": [
            "Epoch 1/10\n",
            "1094/1094 [==============================] - 152s 129ms/step - loss: 0.9703 - categorical_accuracy: 0.6315 - val_loss: 0.6237 - val_categorical_accuracy: 0.7711\n",
            "Epoch 2/10\n",
            "1094/1094 [==============================] - 141s 129ms/step - loss: 0.5583 - categorical_accuracy: 0.7993 - val_loss: 0.4680 - val_categorical_accuracy: 0.8305\n",
            "Epoch 3/10\n",
            "1094/1094 [==============================] - 143s 131ms/step - loss: 0.4166 - categorical_accuracy: 0.8520 - val_loss: 0.3925 - val_categorical_accuracy: 0.8595\n",
            "Epoch 4/10\n",
            "1094/1094 [==============================] - 137s 126ms/step - loss: 0.3259 - categorical_accuracy: 0.8856 - val_loss: 0.3434 - val_categorical_accuracy: 0.8761\n",
            "Epoch 5/10\n",
            "1094/1094 [==============================] - 142s 130ms/step - loss: 0.2582 - categorical_accuracy: 0.9109 - val_loss: 0.3109 - val_categorical_accuracy: 0.8951\n",
            "Epoch 6/10\n",
            "1094/1094 [==============================] - 141s 129ms/step - loss: 0.2086 - categorical_accuracy: 0.9281 - val_loss: 0.2926 - val_categorical_accuracy: 0.9046\n",
            "Epoch 7/10\n",
            "1094/1094 [==============================] - 136s 124ms/step - loss: 0.1649 - categorical_accuracy: 0.9451 - val_loss: 0.2833 - val_categorical_accuracy: 0.9111\n",
            "Epoch 8/10\n",
            "1094/1094 [==============================] - 136s 124ms/step - loss: 0.1334 - categorical_accuracy: 0.9554 - val_loss: 0.2730 - val_categorical_accuracy: 0.9178\n",
            "Epoch 9/10\n",
            "1094/1094 [==============================] - 141s 129ms/step - loss: 0.1069 - categorical_accuracy: 0.9645 - val_loss: 0.2781 - val_categorical_accuracy: 0.9192\n",
            "Epoch 10/10\n",
            "1094/1094 [==============================] - 141s 129ms/step - loss: 0.0857 - categorical_accuracy: 0.9710 - val_loss: 0.2742 - val_categorical_accuracy: 0.9251\n"
          ]
        }
      ]
    },
    {
      "cell_type": "markdown",
      "source": [
        "#### Оценка на тестовой выборке"
      ],
      "metadata": {
        "id": "boh12QL-sbRs"
      }
    },
    {
      "cell_type": "code",
      "source": [
        "result = model.predict([test_input_ids, test_attention_masks])"
      ],
      "metadata": {
        "id": "YSh3Bxce6Lc9",
        "colab": {
          "base_uri": "https://localhost:8080/"
        },
        "outputId": "0a63b5d7-f76b-458f-d992-413e009cad1f"
      },
      "execution_count": null,
      "outputs": [
        {
          "output_type": "stream",
          "name": "stdout",
          "text": [
            "274/274 [==============================] - 8s 27ms/step\n"
          ]
        }
      ]
    },
    {
      "cell_type": "code",
      "source": [
        "y_pred =  np.zeros_like(result)\n",
        "y_pred[np.arange(len(y_pred)), result.argmax(1)] = 1"
      ],
      "metadata": {
        "id": "JJ9BhizP6Laa"
      },
      "execution_count": null,
      "outputs": []
    },
    {
      "cell_type": "code",
      "source": [
        "def conf_matrix(y, y_pred, title, labels):\n",
        "    fig, ax =plt.subplots(figsize=(8,8))\n",
        "    cm = confusion_matrix(y, y_pred)\n",
        "    ax=sns.heatmap(cm, annot=True, cmap=\"Blues\", fmt='g', cbar=False, annot_kws={\"size\":25})\n",
        "    plt.title(title, fontsize=14)\n",
        "    ax.xaxis.set_ticklabels(labels, fontsize=12)\n",
        "    ax.yaxis.set_ticklabels(labels, fontsize=12)\n",
        "    ax.set_ylabel('Тест', fontsize=20)\n",
        "    ax.set_xlabel('Предсказание', fontsize=20)\n",
        "    plt.show()"
      ],
      "metadata": {
        "id": "ytZmJC1b6LXE"
      },
      "execution_count": null,
      "outputs": []
    },
    {
      "cell_type": "code",
      "source": [
        "conf_matrix(\n",
        "    y_test.argmax(1),\n",
        "    y_pred.argmax(1),\n",
        "    'Матрица ошибок для BERT классификации',\n",
        "    CLASS_LIST,\n",
        ")"
      ],
      "metadata": {
        "id": "NfQe7DcL6LTk",
        "colab": {
          "base_uri": "https://localhost:8080/",
          "height": 807
        },
        "outputId": "ef52efe7-472a-4516-f2ca-1c176a90bbd6"
      },
      "execution_count": null,
      "outputs": [
        {
          "output_type": "display_data",
          "data": {
            "text/plain": [
              "<Figure size 800x800 with 1 Axes>"
            ],
            "image/png": "[encoded data removed]"
          },
          "metadata": {}
        }
      ]
    },
    {
      "cell_type": "code",
      "source": [
        "print('Расчет метрик для BERT классификатора:')\n",
        "print()\n",
        "print(classification_report(y_test, y_pred, target_names=CLASS_LIST))\n"
      ],
      "metadata": {
        "id": "OD75TKkh6LQf",
        "colab": {
          "base_uri": "https://localhost:8080/"
        },
        "outputId": "50c8c3e0-8290-48be-ab0b-9c360c9df743"
      },
      "execution_count": null,
      "outputs": [
        {
          "output_type": "stream",
          "name": "stdout",
          "text": [
            "Расчет метрик для BERT классификатора:\n",
            "\n",
            "              precision    recall  f1-score   support\n",
            "\n",
            "  Dostoevsky       0.95      0.96      0.95      1750\n",
            "     Tolstoy       0.90      0.86      0.88      1750\n",
            "       Gorky       0.90      0.95      0.93      1750\n",
            "     Bryusov       0.90      0.91      0.90      1750\n",
            "    Turgenev       0.94      0.93      0.94      1750\n",
            "\n",
            "   micro avg       0.92      0.92      0.92      8750\n",
            "   macro avg       0.92      0.92      0.92      8750\n",
            "weighted avg       0.92      0.92      0.92      8750\n",
            " samples avg       0.92      0.92      0.92      8750\n",
            "\n"
          ]
        }
      ]
    },
    {
      "cell_type": "markdown",
      "source": [
        "#### Дообучение"
      ],
      "metadata": {
        "id": "TD4ldoMasgaz"
      }
    },
    {
      "cell_type": "code",
      "source": [
        "# судя по изменениям val_loss, потенциал обучения еще не исчерпан - попробуем дообучить\n",
        "EPOCHS = 4\n",
        "BATCH_SIZE = 64\n",
        "\n",
        "\n",
        "history = model.fit(\n",
        "    [\n",
        "        train_input_ids,\n",
        "        train_attention_masks\n",
        "    ],\n",
        "    y_train,\n",
        "    validation_data=(\n",
        "        [\n",
        "            val_input_ids,\n",
        "            val_attention_masks\n",
        "        ],\n",
        "        y_val\n",
        "    ),\n",
        "    epochs=EPOCHS,\n",
        "    batch_size=BATCH_SIZE\n",
        ")\n"
      ],
      "metadata": {
        "id": "5wlVgfmV6LOB",
        "colab": {
          "base_uri": "https://localhost:8080/"
        },
        "outputId": "2ee42e1a-f3e9-4e05-b9a3-c8176cfdb5ae"
      },
      "execution_count": null,
      "outputs": [
        {
          "output_type": "stream",
          "name": "stdout",
          "text": [
            "Epoch 1/4\n",
            "1094/1094 [==============================] - 144s 132ms/step - loss: 0.0663 - categorical_accuracy: 0.9779 - val_loss: 0.3098 - val_categorical_accuracy: 0.9199\n",
            "Epoch 2/4\n",
            "1094/1094 [==============================] - 142s 129ms/step - loss: 0.0531 - categorical_accuracy: 0.9826 - val_loss: 0.2926 - val_categorical_accuracy: 0.9257\n",
            "Epoch 3/4\n",
            "1094/1094 [==============================] - 136s 125ms/step - loss: 0.0407 - categorical_accuracy: 0.9870 - val_loss: 0.3082 - val_categorical_accuracy: 0.9232\n",
            "Epoch 4/4\n",
            "1094/1094 [==============================] - 141s 129ms/step - loss: 0.0344 - categorical_accuracy: 0.9887 - val_loss: 0.3145 - val_categorical_accuracy: 0.9259\n"
          ]
        }
      ]
    },
    {
      "cell_type": "markdown",
      "source": [
        "#### Оценка на тестовой выборке после дообучения"
      ],
      "metadata": {
        "id": "0IS3-YiMsl75"
      }
    },
    {
      "cell_type": "code",
      "source": [
        "result = model.predict([test_input_ids, test_attention_masks])"
      ],
      "metadata": {
        "colab": {
          "base_uri": "https://localhost:8080/"
        },
        "id": "xRwDHGt0bGzN",
        "outputId": "fb73fbc8-9850-4122-fa22-28290608814e"
      },
      "execution_count": null,
      "outputs": [
        {
          "output_type": "stream",
          "name": "stdout",
          "text": [
            "274/274 [==============================] - 7s 26ms/step\n"
          ]
        }
      ]
    },
    {
      "cell_type": "code",
      "source": [
        "y_pred =  np.zeros_like(result)\n",
        "y_pred[np.arange(len(y_pred)), result.argmax(1)] = 1"
      ],
      "metadata": {
        "id": "EaJlMMtMbGwV"
      },
      "execution_count": null,
      "outputs": []
    },
    {
      "cell_type": "code",
      "source": [
        "conf_matrix(\n",
        "    y_test.argmax(1),\n",
        "    y_pred.argmax(1),\n",
        "    'Матрица ошибок для BERT классификации',\n",
        "    CLASS_LIST,\n",
        ")"
      ],
      "metadata": {
        "colab": {
          "base_uri": "https://localhost:8080/",
          "height": 807
        },
        "id": "spL-rqARbGtF",
        "outputId": "ae88a41d-b690-46cc-ee7e-88164710c733"
      },
      "execution_count": null,
      "outputs": [
        {
          "output_type": "display_data",
          "data": {
            "text/plain": [
              "<Figure size 800x800 with 1 Axes>"
            ],
            "image/png": "[encoded data removed]"
          },
          "metadata": {}
        }
      ]
    },
    {
      "cell_type": "code",
      "source": [
        "print('Расчет метрик для BERT классификатора:')\n",
        "print()\n",
        "print(classification_report(y_test, y_pred, target_names=CLASS_LIST))\n"
      ],
      "metadata": {
        "colab": {
          "base_uri": "https://localhost:8080/"
        },
        "id": "4w6RFhMobGqF",
        "outputId": "ba164d1f-5c87-4a26-bcfd-d437ded1c089"
      },
      "execution_count": null,
      "outputs": [
        {
          "output_type": "stream",
          "name": "stdout",
          "text": [
            "Расчет метрик для BERT классификатора:\n",
            "\n",
            "              precision    recall  f1-score   support\n",
            "\n",
            "  Dostoevsky       0.95      0.96      0.96      1750\n",
            "     Tolstoy       0.92      0.87      0.89      1750\n",
            "       Gorky       0.92      0.94      0.93      1750\n",
            "     Bryusov       0.92      0.89      0.91      1750\n",
            "    Turgenev       0.91      0.96      0.93      1750\n",
            "\n",
            "   micro avg       0.92      0.92      0.92      8750\n",
            "   macro avg       0.92      0.92      0.92      8750\n",
            "weighted avg       0.92      0.92      0.92      8750\n",
            " samples avg       0.92      0.92      0.92      8750\n",
            "\n"
          ]
        }
      ]
    }
  ]
}